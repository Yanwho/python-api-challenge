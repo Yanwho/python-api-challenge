{
 "cells": [
  {
   "cell_type": "code",
   "execution_count": 37,
   "metadata": {},
   "outputs": [],
   "source": [
    "import pandas as pd\n",
    "import csv\n",
    "import os\n",
    "import json\n",
    "import numpy as np\n",
    "from citipy import citipy\n",
    "import requests\n",
    "import matplotlib.pyplot as plt\n",
    "import plotly.express as px"
   ]
  },
  {
   "cell_type": "code",
   "execution_count": 38,
   "metadata": {},
   "outputs": [
    {
     "data": {
      "text/html": [
       "<div>\n",
       "<style scoped>\n",
       "    .dataframe tbody tr th:only-of-type {\n",
       "        vertical-align: middle;\n",
       "    }\n",
       "\n",
       "    .dataframe tbody tr th {\n",
       "        vertical-align: top;\n",
       "    }\n",
       "\n",
       "    .dataframe thead th {\n",
       "        text-align: right;\n",
       "    }\n",
       "</style>\n",
       "<table border=\"1\" class=\"dataframe\">\n",
       "  <thead>\n",
       "    <tr style=\"text-align: right;\">\n",
       "      <th></th>\n",
       "      <th>Unnamed: 0</th>\n",
       "      <th>City</th>\n",
       "      <th>Country</th>\n",
       "      <th>ID</th>\n",
       "      <th>Latitude</th>\n",
       "      <th>Longitude</th>\n",
       "      <th>Max Temp</th>\n",
       "      <th>Humidity</th>\n",
       "      <th>Wind Speed</th>\n",
       "      <th>Cloudiness</th>\n",
       "    </tr>\n",
       "  </thead>\n",
       "  <tbody>\n",
       "    <tr>\n",
       "      <th>0</th>\n",
       "      <td>0</td>\n",
       "      <td>Onguday</td>\n",
       "      <td>RU</td>\n",
       "      <td>1496130</td>\n",
       "      <td>50.7500</td>\n",
       "      <td>86.1500</td>\n",
       "      <td>23.76</td>\n",
       "      <td>85</td>\n",
       "      <td>1.57</td>\n",
       "      <td>100</td>\n",
       "    </tr>\n",
       "    <tr>\n",
       "      <th>1</th>\n",
       "      <td>1</td>\n",
       "      <td>Zhangye</td>\n",
       "      <td>CN</td>\n",
       "      <td>1785036</td>\n",
       "      <td>38.9342</td>\n",
       "      <td>100.4517</td>\n",
       "      <td>14.65</td>\n",
       "      <td>75</td>\n",
       "      <td>1.50</td>\n",
       "      <td>0</td>\n",
       "    </tr>\n",
       "    <tr>\n",
       "      <th>2</th>\n",
       "      <td>2</td>\n",
       "      <td>Pisco</td>\n",
       "      <td>PE</td>\n",
       "      <td>3932145</td>\n",
       "      <td>-13.7000</td>\n",
       "      <td>-76.2167</td>\n",
       "      <td>75.20</td>\n",
       "      <td>73</td>\n",
       "      <td>5.75</td>\n",
       "      <td>0</td>\n",
       "    </tr>\n",
       "    <tr>\n",
       "      <th>3</th>\n",
       "      <td>3</td>\n",
       "      <td>Pevek</td>\n",
       "      <td>RU</td>\n",
       "      <td>2122090</td>\n",
       "      <td>69.7008</td>\n",
       "      <td>170.3133</td>\n",
       "      <td>-29.07</td>\n",
       "      <td>86</td>\n",
       "      <td>5.95</td>\n",
       "      <td>89</td>\n",
       "    </tr>\n",
       "    <tr>\n",
       "      <th>4</th>\n",
       "      <td>4</td>\n",
       "      <td>Brae</td>\n",
       "      <td>GB</td>\n",
       "      <td>2654970</td>\n",
       "      <td>60.3964</td>\n",
       "      <td>-1.3530</td>\n",
       "      <td>41.00</td>\n",
       "      <td>87</td>\n",
       "      <td>18.41</td>\n",
       "      <td>90</td>\n",
       "    </tr>\n",
       "    <tr>\n",
       "      <th>...</th>\n",
       "      <td>...</td>\n",
       "      <td>...</td>\n",
       "      <td>...</td>\n",
       "      <td>...</td>\n",
       "      <td>...</td>\n",
       "      <td>...</td>\n",
       "      <td>...</td>\n",
       "      <td>...</td>\n",
       "      <td>...</td>\n",
       "      <td>...</td>\n",
       "    </tr>\n",
       "    <tr>\n",
       "      <th>690</th>\n",
       "      <td>690</td>\n",
       "      <td>Imeni Poliny Osipenko</td>\n",
       "      <td>RU</td>\n",
       "      <td>2023584</td>\n",
       "      <td>52.4201</td>\n",
       "      <td>136.4853</td>\n",
       "      <td>-26.75</td>\n",
       "      <td>86</td>\n",
       "      <td>4.18</td>\n",
       "      <td>75</td>\n",
       "    </tr>\n",
       "    <tr>\n",
       "      <th>691</th>\n",
       "      <td>691</td>\n",
       "      <td>Ndjolé</td>\n",
       "      <td>GA</td>\n",
       "      <td>2397674</td>\n",
       "      <td>-0.1783</td>\n",
       "      <td>10.7649</td>\n",
       "      <td>75.60</td>\n",
       "      <td>92</td>\n",
       "      <td>2.48</td>\n",
       "      <td>100</td>\n",
       "    </tr>\n",
       "    <tr>\n",
       "      <th>692</th>\n",
       "      <td>692</td>\n",
       "      <td>Yerbogachën</td>\n",
       "      <td>RU</td>\n",
       "      <td>2012956</td>\n",
       "      <td>61.2767</td>\n",
       "      <td>108.0108</td>\n",
       "      <td>-24.30</td>\n",
       "      <td>85</td>\n",
       "      <td>9.55</td>\n",
       "      <td>100</td>\n",
       "    </tr>\n",
       "    <tr>\n",
       "      <th>693</th>\n",
       "      <td>693</td>\n",
       "      <td>‘Āhuimanu</td>\n",
       "      <td>US</td>\n",
       "      <td>5856516</td>\n",
       "      <td>21.4447</td>\n",
       "      <td>-157.8378</td>\n",
       "      <td>73.40</td>\n",
       "      <td>83</td>\n",
       "      <td>31.07</td>\n",
       "      <td>90</td>\n",
       "    </tr>\n",
       "    <tr>\n",
       "      <th>694</th>\n",
       "      <td>694</td>\n",
       "      <td>Sarny</td>\n",
       "      <td>UA</td>\n",
       "      <td>694792</td>\n",
       "      <td>51.3380</td>\n",
       "      <td>26.6019</td>\n",
       "      <td>-0.13</td>\n",
       "      <td>93</td>\n",
       "      <td>3.47</td>\n",
       "      <td>64</td>\n",
       "    </tr>\n",
       "  </tbody>\n",
       "</table>\n",
       "<p>695 rows × 10 columns</p>\n",
       "</div>"
      ],
      "text/plain": [
       "     Unnamed: 0                   City Country       ID  Latitude  Longitude  \\\n",
       "0             0                Onguday      RU  1496130   50.7500    86.1500   \n",
       "1             1                Zhangye      CN  1785036   38.9342   100.4517   \n",
       "2             2                  Pisco      PE  3932145  -13.7000   -76.2167   \n",
       "3             3                  Pevek      RU  2122090   69.7008   170.3133   \n",
       "4             4                   Brae      GB  2654970   60.3964    -1.3530   \n",
       "..          ...                    ...     ...      ...       ...        ...   \n",
       "690         690  Imeni Poliny Osipenko      RU  2023584   52.4201   136.4853   \n",
       "691         691                 Ndjolé      GA  2397674   -0.1783    10.7649   \n",
       "692         692            Yerbogachën      RU  2012956   61.2767   108.0108   \n",
       "693         693              ‘Āhuimanu      US  5856516   21.4447  -157.8378   \n",
       "694         694                  Sarny      UA   694792   51.3380    26.6019   \n",
       "\n",
       "     Max Temp  Humidity  Wind Speed  Cloudiness  \n",
       "0       23.76        85        1.57         100  \n",
       "1       14.65        75        1.50           0  \n",
       "2       75.20        73        5.75           0  \n",
       "3      -29.07        86        5.95          89  \n",
       "4       41.00        87       18.41          90  \n",
       "..        ...       ...         ...         ...  \n",
       "690    -26.75        86        4.18          75  \n",
       "691     75.60        92        2.48         100  \n",
       "692    -24.30        85        9.55         100  \n",
       "693     73.40        83       31.07          90  \n",
       "694     -0.13        93        3.47          64  \n",
       "\n",
       "[695 rows x 10 columns]"
      ]
     },
     "execution_count": 38,
     "metadata": {},
     "output_type": "execute_result"
    }
   ],
   "source": [
    "results_df = pd.read_csv(\"WeatherPy/results.csv\")\n",
    "results_df"
   ]
  },
  {
   "cell_type": "code",
   "execution_count": 39,
   "metadata": {},
   "outputs": [
    {
     "data": {
      "text/html": [
       "<div>\n",
       "<style scoped>\n",
       "    .dataframe tbody tr th:only-of-type {\n",
       "        vertical-align: middle;\n",
       "    }\n",
       "\n",
       "    .dataframe tbody tr th {\n",
       "        vertical-align: top;\n",
       "    }\n",
       "\n",
       "    .dataframe thead th {\n",
       "        text-align: right;\n",
       "    }\n",
       "</style>\n",
       "<table border=\"1\" class=\"dataframe\">\n",
       "  <thead>\n",
       "    <tr style=\"text-align: right;\">\n",
       "      <th></th>\n",
       "      <th>Unnamed: 0</th>\n",
       "      <th>City</th>\n",
       "      <th>Country</th>\n",
       "      <th>ID</th>\n",
       "      <th>Latitude</th>\n",
       "      <th>Longitude</th>\n",
       "      <th>Max Temp</th>\n",
       "      <th>Humidity</th>\n",
       "      <th>Wind Speed</th>\n",
       "      <th>Cloudiness</th>\n",
       "    </tr>\n",
       "  </thead>\n",
       "  <tbody>\n",
       "    <tr>\n",
       "      <th>2</th>\n",
       "      <td>2</td>\n",
       "      <td>Pisco</td>\n",
       "      <td>PE</td>\n",
       "      <td>3932145</td>\n",
       "      <td>-13.7000</td>\n",
       "      <td>-76.2167</td>\n",
       "      <td>75.20</td>\n",
       "      <td>73</td>\n",
       "      <td>5.75</td>\n",
       "      <td>0</td>\n",
       "    </tr>\n",
       "    <tr>\n",
       "      <th>8</th>\n",
       "      <td>8</td>\n",
       "      <td>Entre Rios</td>\n",
       "      <td>BR</td>\n",
       "      <td>3464100</td>\n",
       "      <td>-11.9419</td>\n",
       "      <td>-38.0844</td>\n",
       "      <td>72.07</td>\n",
       "      <td>82</td>\n",
       "      <td>5.19</td>\n",
       "      <td>0</td>\n",
       "    </tr>\n",
       "    <tr>\n",
       "      <th>18</th>\n",
       "      <td>18</td>\n",
       "      <td>Malakal</td>\n",
       "      <td>SS</td>\n",
       "      <td>370737</td>\n",
       "      <td>9.5334</td>\n",
       "      <td>31.6605</td>\n",
       "      <td>79.03</td>\n",
       "      <td>24</td>\n",
       "      <td>7.61</td>\n",
       "      <td>0</td>\n",
       "    </tr>\n",
       "    <tr>\n",
       "      <th>95</th>\n",
       "      <td>95</td>\n",
       "      <td>Filingué</td>\n",
       "      <td>NE</td>\n",
       "      <td>2444995</td>\n",
       "      <td>14.3521</td>\n",
       "      <td>3.3168</td>\n",
       "      <td>73.51</td>\n",
       "      <td>20</td>\n",
       "      <td>8.84</td>\n",
       "      <td>0</td>\n",
       "    </tr>\n",
       "    <tr>\n",
       "      <th>129</th>\n",
       "      <td>129</td>\n",
       "      <td>Alice Springs</td>\n",
       "      <td>AU</td>\n",
       "      <td>2077895</td>\n",
       "      <td>-23.7000</td>\n",
       "      <td>133.8833</td>\n",
       "      <td>77.00</td>\n",
       "      <td>28</td>\n",
       "      <td>8.05</td>\n",
       "      <td>0</td>\n",
       "    </tr>\n",
       "    <tr>\n",
       "      <th>188</th>\n",
       "      <td>188</td>\n",
       "      <td>Bandiagara</td>\n",
       "      <td>ML</td>\n",
       "      <td>2460489</td>\n",
       "      <td>14.3501</td>\n",
       "      <td>-3.6104</td>\n",
       "      <td>75.20</td>\n",
       "      <td>33</td>\n",
       "      <td>4.61</td>\n",
       "      <td>0</td>\n",
       "    </tr>\n",
       "    <tr>\n",
       "      <th>200</th>\n",
       "      <td>200</td>\n",
       "      <td>Am Timan</td>\n",
       "      <td>TD</td>\n",
       "      <td>245338</td>\n",
       "      <td>11.0297</td>\n",
       "      <td>20.2827</td>\n",
       "      <td>72.10</td>\n",
       "      <td>21</td>\n",
       "      <td>5.23</td>\n",
       "      <td>0</td>\n",
       "    </tr>\n",
       "    <tr>\n",
       "      <th>258</th>\n",
       "      <td>258</td>\n",
       "      <td>Caborca</td>\n",
       "      <td>MX</td>\n",
       "      <td>3996893</td>\n",
       "      <td>30.5838</td>\n",
       "      <td>-111.1010</td>\n",
       "      <td>79.00</td>\n",
       "      <td>12</td>\n",
       "      <td>7.00</td>\n",
       "      <td>0</td>\n",
       "    </tr>\n",
       "    <tr>\n",
       "      <th>319</th>\n",
       "      <td>319</td>\n",
       "      <td>Minas</td>\n",
       "      <td>UY</td>\n",
       "      <td>3441665</td>\n",
       "      <td>-34.3759</td>\n",
       "      <td>-55.2377</td>\n",
       "      <td>73.40</td>\n",
       "      <td>64</td>\n",
       "      <td>5.75</td>\n",
       "      <td>0</td>\n",
       "    </tr>\n",
       "    <tr>\n",
       "      <th>334</th>\n",
       "      <td>334</td>\n",
       "      <td>Caravelas</td>\n",
       "      <td>BR</td>\n",
       "      <td>3466980</td>\n",
       "      <td>-17.7125</td>\n",
       "      <td>-39.2481</td>\n",
       "      <td>77.20</td>\n",
       "      <td>78</td>\n",
       "      <td>7.05</td>\n",
       "      <td>0</td>\n",
       "    </tr>\n",
       "    <tr>\n",
       "      <th>339</th>\n",
       "      <td>339</td>\n",
       "      <td>Bougouni</td>\n",
       "      <td>ML</td>\n",
       "      <td>2459775</td>\n",
       "      <td>11.4170</td>\n",
       "      <td>-7.4790</td>\n",
       "      <td>74.39</td>\n",
       "      <td>18</td>\n",
       "      <td>5.17</td>\n",
       "      <td>0</td>\n",
       "    </tr>\n",
       "    <tr>\n",
       "      <th>341</th>\n",
       "      <td>341</td>\n",
       "      <td>Geraldton</td>\n",
       "      <td>AU</td>\n",
       "      <td>2070998</td>\n",
       "      <td>-28.7667</td>\n",
       "      <td>114.6000</td>\n",
       "      <td>75.20</td>\n",
       "      <td>73</td>\n",
       "      <td>3.85</td>\n",
       "      <td>0</td>\n",
       "    </tr>\n",
       "    <tr>\n",
       "      <th>387</th>\n",
       "      <td>387</td>\n",
       "      <td>Bondoukou</td>\n",
       "      <td>CI</td>\n",
       "      <td>2291136</td>\n",
       "      <td>8.0333</td>\n",
       "      <td>-2.8000</td>\n",
       "      <td>79.30</td>\n",
       "      <td>17</td>\n",
       "      <td>2.24</td>\n",
       "      <td>0</td>\n",
       "    </tr>\n",
       "    <tr>\n",
       "      <th>407</th>\n",
       "      <td>407</td>\n",
       "      <td>Edd</td>\n",
       "      <td>ER</td>\n",
       "      <td>338345</td>\n",
       "      <td>13.9297</td>\n",
       "      <td>41.6925</td>\n",
       "      <td>73.58</td>\n",
       "      <td>80</td>\n",
       "      <td>5.14</td>\n",
       "      <td>0</td>\n",
       "    </tr>\n",
       "    <tr>\n",
       "      <th>409</th>\n",
       "      <td>409</td>\n",
       "      <td>Doba</td>\n",
       "      <td>TD</td>\n",
       "      <td>2433437</td>\n",
       "      <td>8.6500</td>\n",
       "      <td>16.8500</td>\n",
       "      <td>75.40</td>\n",
       "      <td>19</td>\n",
       "      <td>5.61</td>\n",
       "      <td>0</td>\n",
       "    </tr>\n",
       "    <tr>\n",
       "      <th>451</th>\n",
       "      <td>451</td>\n",
       "      <td>Tres Arroyos</td>\n",
       "      <td>AR</td>\n",
       "      <td>3833859</td>\n",
       "      <td>-38.3739</td>\n",
       "      <td>-60.2798</td>\n",
       "      <td>78.82</td>\n",
       "      <td>40</td>\n",
       "      <td>8.28</td>\n",
       "      <td>0</td>\n",
       "    </tr>\n",
       "    <tr>\n",
       "      <th>501</th>\n",
       "      <td>501</td>\n",
       "      <td>Duekoué</td>\n",
       "      <td>CI</td>\n",
       "      <td>2289549</td>\n",
       "      <td>6.7472</td>\n",
       "      <td>-7.3496</td>\n",
       "      <td>75.13</td>\n",
       "      <td>49</td>\n",
       "      <td>2.51</td>\n",
       "      <td>0</td>\n",
       "    </tr>\n",
       "    <tr>\n",
       "      <th>531</th>\n",
       "      <td>531</td>\n",
       "      <td>Tolaga Bay</td>\n",
       "      <td>NZ</td>\n",
       "      <td>2180991</td>\n",
       "      <td>-38.3667</td>\n",
       "      <td>178.3000</td>\n",
       "      <td>72.10</td>\n",
       "      <td>51</td>\n",
       "      <td>8.84</td>\n",
       "      <td>0</td>\n",
       "    </tr>\n",
       "    <tr>\n",
       "      <th>535</th>\n",
       "      <td>535</td>\n",
       "      <td>Guerrero Negro</td>\n",
       "      <td>MX</td>\n",
       "      <td>4021858</td>\n",
       "      <td>27.9769</td>\n",
       "      <td>-114.0611</td>\n",
       "      <td>76.60</td>\n",
       "      <td>21</td>\n",
       "      <td>8.77</td>\n",
       "      <td>0</td>\n",
       "    </tr>\n",
       "  </tbody>\n",
       "</table>\n",
       "</div>"
      ],
      "text/plain": [
       "     Unnamed: 0            City Country       ID  Latitude  Longitude  \\\n",
       "2             2           Pisco      PE  3932145  -13.7000   -76.2167   \n",
       "8             8      Entre Rios      BR  3464100  -11.9419   -38.0844   \n",
       "18           18         Malakal      SS   370737    9.5334    31.6605   \n",
       "95           95        Filingué      NE  2444995   14.3521     3.3168   \n",
       "129         129   Alice Springs      AU  2077895  -23.7000   133.8833   \n",
       "188         188      Bandiagara      ML  2460489   14.3501    -3.6104   \n",
       "200         200        Am Timan      TD   245338   11.0297    20.2827   \n",
       "258         258         Caborca      MX  3996893   30.5838  -111.1010   \n",
       "319         319           Minas      UY  3441665  -34.3759   -55.2377   \n",
       "334         334       Caravelas      BR  3466980  -17.7125   -39.2481   \n",
       "339         339        Bougouni      ML  2459775   11.4170    -7.4790   \n",
       "341         341       Geraldton      AU  2070998  -28.7667   114.6000   \n",
       "387         387       Bondoukou      CI  2291136    8.0333    -2.8000   \n",
       "407         407             Edd      ER   338345   13.9297    41.6925   \n",
       "409         409            Doba      TD  2433437    8.6500    16.8500   \n",
       "451         451    Tres Arroyos      AR  3833859  -38.3739   -60.2798   \n",
       "501         501         Duekoué      CI  2289549    6.7472    -7.3496   \n",
       "531         531      Tolaga Bay      NZ  2180991  -38.3667   178.3000   \n",
       "535         535  Guerrero Negro      MX  4021858   27.9769  -114.0611   \n",
       "\n",
       "     Max Temp  Humidity  Wind Speed  Cloudiness  \n",
       "2       75.20        73        5.75           0  \n",
       "8       72.07        82        5.19           0  \n",
       "18      79.03        24        7.61           0  \n",
       "95      73.51        20        8.84           0  \n",
       "129     77.00        28        8.05           0  \n",
       "188     75.20        33        4.61           0  \n",
       "200     72.10        21        5.23           0  \n",
       "258     79.00        12        7.00           0  \n",
       "319     73.40        64        5.75           0  \n",
       "334     77.20        78        7.05           0  \n",
       "339     74.39        18        5.17           0  \n",
       "341     75.20        73        3.85           0  \n",
       "387     79.30        17        2.24           0  \n",
       "407     73.58        80        5.14           0  \n",
       "409     75.40        19        5.61           0  \n",
       "451     78.82        40        8.28           0  \n",
       "501     75.13        49        2.51           0  \n",
       "531     72.10        51        8.84           0  \n",
       "535     76.60        21        8.77           0  "
      ]
     },
     "execution_count": 39,
     "metadata": {},
     "output_type": "execute_result"
    }
   ],
   "source": [
    "results_df_filtered = results_df[(results_df[\"Max Temp\"] <80) & (results_df[\"Max Temp\"] >70) & (results_df[\"Wind Speed\"] <10) & (results_df[\"Cloudiness\"] == 0)]\n",
    "results_df_filtered"
   ]
  },
  {
   "cell_type": "code",
   "execution_count": 40,
   "metadata": {},
   "outputs": [
    {
     "data": {
      "text/html": [
       "<div>\n",
       "<style scoped>\n",
       "    .dataframe tbody tr th:only-of-type {\n",
       "        vertical-align: middle;\n",
       "    }\n",
       "\n",
       "    .dataframe tbody tr th {\n",
       "        vertical-align: top;\n",
       "    }\n",
       "\n",
       "    .dataframe thead th {\n",
       "        text-align: right;\n",
       "    }\n",
       "</style>\n",
       "<table border=\"1\" class=\"dataframe\">\n",
       "  <thead>\n",
       "    <tr style=\"text-align: right;\">\n",
       "      <th></th>\n",
       "      <th>Unnamed: 0</th>\n",
       "      <th>City</th>\n",
       "      <th>Country</th>\n",
       "      <th>ID</th>\n",
       "      <th>Latitude</th>\n",
       "      <th>Longitude</th>\n",
       "      <th>Max Temp</th>\n",
       "      <th>Humidity</th>\n",
       "      <th>Wind Speed</th>\n",
       "      <th>Cloudiness</th>\n",
       "      <th>Hotel Name</th>\n",
       "    </tr>\n",
       "  </thead>\n",
       "  <tbody>\n",
       "    <tr>\n",
       "      <th>2</th>\n",
       "      <td>2</td>\n",
       "      <td>Pisco</td>\n",
       "      <td>PE</td>\n",
       "      <td>3932145</td>\n",
       "      <td>-13.7000</td>\n",
       "      <td>-76.2167</td>\n",
       "      <td>75.20</td>\n",
       "      <td>73</td>\n",
       "      <td>5.75</td>\n",
       "      <td>0</td>\n",
       "      <td></td>\n",
       "    </tr>\n",
       "    <tr>\n",
       "      <th>8</th>\n",
       "      <td>8</td>\n",
       "      <td>Entre Rios</td>\n",
       "      <td>BR</td>\n",
       "      <td>3464100</td>\n",
       "      <td>-11.9419</td>\n",
       "      <td>-38.0844</td>\n",
       "      <td>72.07</td>\n",
       "      <td>82</td>\n",
       "      <td>5.19</td>\n",
       "      <td>0</td>\n",
       "      <td></td>\n",
       "    </tr>\n",
       "    <tr>\n",
       "      <th>18</th>\n",
       "      <td>18</td>\n",
       "      <td>Malakal</td>\n",
       "      <td>SS</td>\n",
       "      <td>370737</td>\n",
       "      <td>9.5334</td>\n",
       "      <td>31.6605</td>\n",
       "      <td>79.03</td>\n",
       "      <td>24</td>\n",
       "      <td>7.61</td>\n",
       "      <td>0</td>\n",
       "      <td></td>\n",
       "    </tr>\n",
       "    <tr>\n",
       "      <th>95</th>\n",
       "      <td>95</td>\n",
       "      <td>Filingué</td>\n",
       "      <td>NE</td>\n",
       "      <td>2444995</td>\n",
       "      <td>14.3521</td>\n",
       "      <td>3.3168</td>\n",
       "      <td>73.51</td>\n",
       "      <td>20</td>\n",
       "      <td>8.84</td>\n",
       "      <td>0</td>\n",
       "      <td></td>\n",
       "    </tr>\n",
       "    <tr>\n",
       "      <th>129</th>\n",
       "      <td>129</td>\n",
       "      <td>Alice Springs</td>\n",
       "      <td>AU</td>\n",
       "      <td>2077895</td>\n",
       "      <td>-23.7000</td>\n",
       "      <td>133.8833</td>\n",
       "      <td>77.00</td>\n",
       "      <td>28</td>\n",
       "      <td>8.05</td>\n",
       "      <td>0</td>\n",
       "      <td></td>\n",
       "    </tr>\n",
       "    <tr>\n",
       "      <th>188</th>\n",
       "      <td>188</td>\n",
       "      <td>Bandiagara</td>\n",
       "      <td>ML</td>\n",
       "      <td>2460489</td>\n",
       "      <td>14.3501</td>\n",
       "      <td>-3.6104</td>\n",
       "      <td>75.20</td>\n",
       "      <td>33</td>\n",
       "      <td>4.61</td>\n",
       "      <td>0</td>\n",
       "      <td></td>\n",
       "    </tr>\n",
       "    <tr>\n",
       "      <th>200</th>\n",
       "      <td>200</td>\n",
       "      <td>Am Timan</td>\n",
       "      <td>TD</td>\n",
       "      <td>245338</td>\n",
       "      <td>11.0297</td>\n",
       "      <td>20.2827</td>\n",
       "      <td>72.10</td>\n",
       "      <td>21</td>\n",
       "      <td>5.23</td>\n",
       "      <td>0</td>\n",
       "      <td></td>\n",
       "    </tr>\n",
       "    <tr>\n",
       "      <th>258</th>\n",
       "      <td>258</td>\n",
       "      <td>Caborca</td>\n",
       "      <td>MX</td>\n",
       "      <td>3996893</td>\n",
       "      <td>30.5838</td>\n",
       "      <td>-111.1010</td>\n",
       "      <td>79.00</td>\n",
       "      <td>12</td>\n",
       "      <td>7.00</td>\n",
       "      <td>0</td>\n",
       "      <td></td>\n",
       "    </tr>\n",
       "    <tr>\n",
       "      <th>319</th>\n",
       "      <td>319</td>\n",
       "      <td>Minas</td>\n",
       "      <td>UY</td>\n",
       "      <td>3441665</td>\n",
       "      <td>-34.3759</td>\n",
       "      <td>-55.2377</td>\n",
       "      <td>73.40</td>\n",
       "      <td>64</td>\n",
       "      <td>5.75</td>\n",
       "      <td>0</td>\n",
       "      <td></td>\n",
       "    </tr>\n",
       "    <tr>\n",
       "      <th>334</th>\n",
       "      <td>334</td>\n",
       "      <td>Caravelas</td>\n",
       "      <td>BR</td>\n",
       "      <td>3466980</td>\n",
       "      <td>-17.7125</td>\n",
       "      <td>-39.2481</td>\n",
       "      <td>77.20</td>\n",
       "      <td>78</td>\n",
       "      <td>7.05</td>\n",
       "      <td>0</td>\n",
       "      <td></td>\n",
       "    </tr>\n",
       "    <tr>\n",
       "      <th>339</th>\n",
       "      <td>339</td>\n",
       "      <td>Bougouni</td>\n",
       "      <td>ML</td>\n",
       "      <td>2459775</td>\n",
       "      <td>11.4170</td>\n",
       "      <td>-7.4790</td>\n",
       "      <td>74.39</td>\n",
       "      <td>18</td>\n",
       "      <td>5.17</td>\n",
       "      <td>0</td>\n",
       "      <td></td>\n",
       "    </tr>\n",
       "    <tr>\n",
       "      <th>341</th>\n",
       "      <td>341</td>\n",
       "      <td>Geraldton</td>\n",
       "      <td>AU</td>\n",
       "      <td>2070998</td>\n",
       "      <td>-28.7667</td>\n",
       "      <td>114.6000</td>\n",
       "      <td>75.20</td>\n",
       "      <td>73</td>\n",
       "      <td>3.85</td>\n",
       "      <td>0</td>\n",
       "      <td></td>\n",
       "    </tr>\n",
       "    <tr>\n",
       "      <th>387</th>\n",
       "      <td>387</td>\n",
       "      <td>Bondoukou</td>\n",
       "      <td>CI</td>\n",
       "      <td>2291136</td>\n",
       "      <td>8.0333</td>\n",
       "      <td>-2.8000</td>\n",
       "      <td>79.30</td>\n",
       "      <td>17</td>\n",
       "      <td>2.24</td>\n",
       "      <td>0</td>\n",
       "      <td></td>\n",
       "    </tr>\n",
       "    <tr>\n",
       "      <th>407</th>\n",
       "      <td>407</td>\n",
       "      <td>Edd</td>\n",
       "      <td>ER</td>\n",
       "      <td>338345</td>\n",
       "      <td>13.9297</td>\n",
       "      <td>41.6925</td>\n",
       "      <td>73.58</td>\n",
       "      <td>80</td>\n",
       "      <td>5.14</td>\n",
       "      <td>0</td>\n",
       "      <td></td>\n",
       "    </tr>\n",
       "    <tr>\n",
       "      <th>409</th>\n",
       "      <td>409</td>\n",
       "      <td>Doba</td>\n",
       "      <td>TD</td>\n",
       "      <td>2433437</td>\n",
       "      <td>8.6500</td>\n",
       "      <td>16.8500</td>\n",
       "      <td>75.40</td>\n",
       "      <td>19</td>\n",
       "      <td>5.61</td>\n",
       "      <td>0</td>\n",
       "      <td></td>\n",
       "    </tr>\n",
       "    <tr>\n",
       "      <th>451</th>\n",
       "      <td>451</td>\n",
       "      <td>Tres Arroyos</td>\n",
       "      <td>AR</td>\n",
       "      <td>3833859</td>\n",
       "      <td>-38.3739</td>\n",
       "      <td>-60.2798</td>\n",
       "      <td>78.82</td>\n",
       "      <td>40</td>\n",
       "      <td>8.28</td>\n",
       "      <td>0</td>\n",
       "      <td></td>\n",
       "    </tr>\n",
       "    <tr>\n",
       "      <th>501</th>\n",
       "      <td>501</td>\n",
       "      <td>Duekoué</td>\n",
       "      <td>CI</td>\n",
       "      <td>2289549</td>\n",
       "      <td>6.7472</td>\n",
       "      <td>-7.3496</td>\n",
       "      <td>75.13</td>\n",
       "      <td>49</td>\n",
       "      <td>2.51</td>\n",
       "      <td>0</td>\n",
       "      <td></td>\n",
       "    </tr>\n",
       "    <tr>\n",
       "      <th>531</th>\n",
       "      <td>531</td>\n",
       "      <td>Tolaga Bay</td>\n",
       "      <td>NZ</td>\n",
       "      <td>2180991</td>\n",
       "      <td>-38.3667</td>\n",
       "      <td>178.3000</td>\n",
       "      <td>72.10</td>\n",
       "      <td>51</td>\n",
       "      <td>8.84</td>\n",
       "      <td>0</td>\n",
       "      <td></td>\n",
       "    </tr>\n",
       "    <tr>\n",
       "      <th>535</th>\n",
       "      <td>535</td>\n",
       "      <td>Guerrero Negro</td>\n",
       "      <td>MX</td>\n",
       "      <td>4021858</td>\n",
       "      <td>27.9769</td>\n",
       "      <td>-114.0611</td>\n",
       "      <td>76.60</td>\n",
       "      <td>21</td>\n",
       "      <td>8.77</td>\n",
       "      <td>0</td>\n",
       "      <td></td>\n",
       "    </tr>\n",
       "  </tbody>\n",
       "</table>\n",
       "</div>"
      ],
      "text/plain": [
       "     Unnamed: 0            City Country       ID  Latitude  Longitude  \\\n",
       "2             2           Pisco      PE  3932145  -13.7000   -76.2167   \n",
       "8             8      Entre Rios      BR  3464100  -11.9419   -38.0844   \n",
       "18           18         Malakal      SS   370737    9.5334    31.6605   \n",
       "95           95        Filingué      NE  2444995   14.3521     3.3168   \n",
       "129         129   Alice Springs      AU  2077895  -23.7000   133.8833   \n",
       "188         188      Bandiagara      ML  2460489   14.3501    -3.6104   \n",
       "200         200        Am Timan      TD   245338   11.0297    20.2827   \n",
       "258         258         Caborca      MX  3996893   30.5838  -111.1010   \n",
       "319         319           Minas      UY  3441665  -34.3759   -55.2377   \n",
       "334         334       Caravelas      BR  3466980  -17.7125   -39.2481   \n",
       "339         339        Bougouni      ML  2459775   11.4170    -7.4790   \n",
       "341         341       Geraldton      AU  2070998  -28.7667   114.6000   \n",
       "387         387       Bondoukou      CI  2291136    8.0333    -2.8000   \n",
       "407         407             Edd      ER   338345   13.9297    41.6925   \n",
       "409         409            Doba      TD  2433437    8.6500    16.8500   \n",
       "451         451    Tres Arroyos      AR  3833859  -38.3739   -60.2798   \n",
       "501         501         Duekoué      CI  2289549    6.7472    -7.3496   \n",
       "531         531      Tolaga Bay      NZ  2180991  -38.3667   178.3000   \n",
       "535         535  Guerrero Negro      MX  4021858   27.9769  -114.0611   \n",
       "\n",
       "     Max Temp  Humidity  Wind Speed  Cloudiness Hotel Name  \n",
       "2       75.20        73        5.75           0             \n",
       "8       72.07        82        5.19           0             \n",
       "18      79.03        24        7.61           0             \n",
       "95      73.51        20        8.84           0             \n",
       "129     77.00        28        8.05           0             \n",
       "188     75.20        33        4.61           0             \n",
       "200     72.10        21        5.23           0             \n",
       "258     79.00        12        7.00           0             \n",
       "319     73.40        64        5.75           0             \n",
       "334     77.20        78        7.05           0             \n",
       "339     74.39        18        5.17           0             \n",
       "341     75.20        73        3.85           0             \n",
       "387     79.30        17        2.24           0             \n",
       "407     73.58        80        5.14           0             \n",
       "409     75.40        19        5.61           0             \n",
       "451     78.82        40        8.28           0             \n",
       "501     75.13        49        2.51           0             \n",
       "531     72.10        51        8.84           0             \n",
       "535     76.60        21        8.77           0             "
      ]
     },
     "execution_count": 40,
     "metadata": {},
     "output_type": "execute_result"
    }
   ],
   "source": [
    "hotels_df=results_df_filtered.copy()\n",
    "hotels_df[\"Hotel Name\"]= \"\"\n",
    "hotels_df"
   ]
  },
  {
   "cell_type": "code",
   "execution_count": 41,
   "metadata": {},
   "outputs": [],
   "source": [
    "os.chdir(\"../python-api-challenge\")"
   ]
  },
  {
   "cell_type": "code",
   "execution_count": 42,
   "metadata": {},
   "outputs": [],
   "source": [
    "from config import google_key\n",
    "from config import mapbox_token"
   ]
  },
  {
   "cell_type": "code",
   "execution_count": 43,
   "metadata": {},
   "outputs": [
    {
     "name": "stdout",
     "output_type": "stream",
     "text": [
      "missing field - skipping\n",
      "missing field - skipping\n"
     ]
    }
   ],
   "source": [
    "# understaning index,row within a loop - \n",
    "# this is needed here because we need to grab the first hotel return from the google api and populate\n",
    "# the hotel_df and indexing that dataframe will be easier with \"index\" within the loop\n",
    "for index,row in hotels_df.iterrows():\n",
    "    lat=row[\"Latitude\"]\n",
    "    lng=row[\"Longitude\"]\n",
    "    name_address=requests.get(\"https://maps.googleapis.com/maps/api/place/nearbysearch/json?\", params={\n",
    "            \"location\": f\"{lat},{lng}\",\n",
    "            \"radius\": 5000,\n",
    "            \"types\": \"lodging\",\n",
    "            \"key\": google_key\n",
    "            })\n",
    "    name_address=name_address.json()\n",
    "    try:\n",
    "        \n",
    "        hotels_df.loc[index,\"Hotel Name\"]=name_address[\"results\"][0][\"name\"]\n",
    "    except (KeyError, IndexError):\n",
    "        print(\"missing field - skipping\")\n",
    "    "
   ]
  },
  {
   "cell_type": "code",
   "execution_count": 44,
   "metadata": {},
   "outputs": [
    {
     "data": {
      "text/html": [
       "<div>\n",
       "<style scoped>\n",
       "    .dataframe tbody tr th:only-of-type {\n",
       "        vertical-align: middle;\n",
       "    }\n",
       "\n",
       "    .dataframe tbody tr th {\n",
       "        vertical-align: top;\n",
       "    }\n",
       "\n",
       "    .dataframe thead th {\n",
       "        text-align: right;\n",
       "    }\n",
       "</style>\n",
       "<table border=\"1\" class=\"dataframe\">\n",
       "  <thead>\n",
       "    <tr style=\"text-align: right;\">\n",
       "      <th></th>\n",
       "      <th>Unnamed: 0</th>\n",
       "      <th>City</th>\n",
       "      <th>Country</th>\n",
       "      <th>ID</th>\n",
       "      <th>Latitude</th>\n",
       "      <th>Longitude</th>\n",
       "      <th>Max Temp</th>\n",
       "      <th>Humidity</th>\n",
       "      <th>Wind Speed</th>\n",
       "      <th>Cloudiness</th>\n",
       "      <th>Hotel Name</th>\n",
       "    </tr>\n",
       "  </thead>\n",
       "  <tbody>\n",
       "    <tr>\n",
       "      <th>2</th>\n",
       "      <td>2</td>\n",
       "      <td>Pisco</td>\n",
       "      <td>PE</td>\n",
       "      <td>3932145</td>\n",
       "      <td>-13.7000</td>\n",
       "      <td>-76.2167</td>\n",
       "      <td>75.20</td>\n",
       "      <td>73</td>\n",
       "      <td>5.75</td>\n",
       "      <td>0</td>\n",
       "      <td>Hotel San Isidro Oficial</td>\n",
       "    </tr>\n",
       "    <tr>\n",
       "      <th>8</th>\n",
       "      <td>8</td>\n",
       "      <td>Entre Rios</td>\n",
       "      <td>BR</td>\n",
       "      <td>3464100</td>\n",
       "      <td>-11.9419</td>\n",
       "      <td>-38.0844</td>\n",
       "      <td>72.07</td>\n",
       "      <td>82</td>\n",
       "      <td>5.19</td>\n",
       "      <td>0</td>\n",
       "      <td>Jambalaya Pousada</td>\n",
       "    </tr>\n",
       "    <tr>\n",
       "      <th>18</th>\n",
       "      <td>18</td>\n",
       "      <td>Malakal</td>\n",
       "      <td>SS</td>\n",
       "      <td>370737</td>\n",
       "      <td>9.5334</td>\n",
       "      <td>31.6605</td>\n",
       "      <td>79.03</td>\n",
       "      <td>24</td>\n",
       "      <td>7.61</td>\n",
       "      <td>0</td>\n",
       "      <td>Nile Palace Hotel</td>\n",
       "    </tr>\n",
       "    <tr>\n",
       "      <th>95</th>\n",
       "      <td>95</td>\n",
       "      <td>Filingué</td>\n",
       "      <td>NE</td>\n",
       "      <td>2444995</td>\n",
       "      <td>14.3521</td>\n",
       "      <td>3.3168</td>\n",
       "      <td>73.51</td>\n",
       "      <td>20</td>\n",
       "      <td>8.84</td>\n",
       "      <td>0</td>\n",
       "      <td></td>\n",
       "    </tr>\n",
       "    <tr>\n",
       "      <th>129</th>\n",
       "      <td>129</td>\n",
       "      <td>Alice Springs</td>\n",
       "      <td>AU</td>\n",
       "      <td>2077895</td>\n",
       "      <td>-23.7000</td>\n",
       "      <td>133.8833</td>\n",
       "      <td>77.00</td>\n",
       "      <td>28</td>\n",
       "      <td>8.05</td>\n",
       "      <td>0</td>\n",
       "      <td>Desert Palms Alice Springs</td>\n",
       "    </tr>\n",
       "    <tr>\n",
       "      <th>188</th>\n",
       "      <td>188</td>\n",
       "      <td>Bandiagara</td>\n",
       "      <td>ML</td>\n",
       "      <td>2460489</td>\n",
       "      <td>14.3501</td>\n",
       "      <td>-3.6104</td>\n",
       "      <td>75.20</td>\n",
       "      <td>33</td>\n",
       "      <td>4.61</td>\n",
       "      <td>0</td>\n",
       "      <td>Hotel de la Falaise</td>\n",
       "    </tr>\n",
       "    <tr>\n",
       "      <th>200</th>\n",
       "      <td>200</td>\n",
       "      <td>Am Timan</td>\n",
       "      <td>TD</td>\n",
       "      <td>245338</td>\n",
       "      <td>11.0297</td>\n",
       "      <td>20.2827</td>\n",
       "      <td>72.10</td>\n",
       "      <td>21</td>\n",
       "      <td>5.23</td>\n",
       "      <td>0</td>\n",
       "      <td>Palais du chef Canton Salamt</td>\n",
       "    </tr>\n",
       "    <tr>\n",
       "      <th>258</th>\n",
       "      <td>258</td>\n",
       "      <td>Caborca</td>\n",
       "      <td>MX</td>\n",
       "      <td>3996893</td>\n",
       "      <td>30.5838</td>\n",
       "      <td>-111.1010</td>\n",
       "      <td>79.00</td>\n",
       "      <td>12</td>\n",
       "      <td>7.00</td>\n",
       "      <td>0</td>\n",
       "      <td>Hotel Los Lagos</td>\n",
       "    </tr>\n",
       "    <tr>\n",
       "      <th>319</th>\n",
       "      <td>319</td>\n",
       "      <td>Minas</td>\n",
       "      <td>UY</td>\n",
       "      <td>3441665</td>\n",
       "      <td>-34.3759</td>\n",
       "      <td>-55.2377</td>\n",
       "      <td>73.40</td>\n",
       "      <td>64</td>\n",
       "      <td>5.75</td>\n",
       "      <td>0</td>\n",
       "      <td>Hotel Minas</td>\n",
       "    </tr>\n",
       "    <tr>\n",
       "      <th>334</th>\n",
       "      <td>334</td>\n",
       "      <td>Caravelas</td>\n",
       "      <td>BR</td>\n",
       "      <td>3466980</td>\n",
       "      <td>-17.7125</td>\n",
       "      <td>-39.2481</td>\n",
       "      <td>77.20</td>\n",
       "      <td>78</td>\n",
       "      <td>7.05</td>\n",
       "      <td>0</td>\n",
       "      <td>Pousada dos Navegantes</td>\n",
       "    </tr>\n",
       "    <tr>\n",
       "      <th>339</th>\n",
       "      <td>339</td>\n",
       "      <td>Bougouni</td>\n",
       "      <td>ML</td>\n",
       "      <td>2459775</td>\n",
       "      <td>11.4170</td>\n",
       "      <td>-7.4790</td>\n",
       "      <td>74.39</td>\n",
       "      <td>18</td>\n",
       "      <td>5.17</td>\n",
       "      <td>0</td>\n",
       "      <td>Non Stop</td>\n",
       "    </tr>\n",
       "    <tr>\n",
       "      <th>341</th>\n",
       "      <td>341</td>\n",
       "      <td>Geraldton</td>\n",
       "      <td>AU</td>\n",
       "      <td>2070998</td>\n",
       "      <td>-28.7667</td>\n",
       "      <td>114.6000</td>\n",
       "      <td>75.20</td>\n",
       "      <td>73</td>\n",
       "      <td>3.85</td>\n",
       "      <td>0</td>\n",
       "      <td>Broadwater Mariner Resort</td>\n",
       "    </tr>\n",
       "    <tr>\n",
       "      <th>387</th>\n",
       "      <td>387</td>\n",
       "      <td>Bondoukou</td>\n",
       "      <td>CI</td>\n",
       "      <td>2291136</td>\n",
       "      <td>8.0333</td>\n",
       "      <td>-2.8000</td>\n",
       "      <td>79.30</td>\n",
       "      <td>17</td>\n",
       "      <td>2.24</td>\n",
       "      <td>0</td>\n",
       "      <td>Prestige Hotel</td>\n",
       "    </tr>\n",
       "    <tr>\n",
       "      <th>407</th>\n",
       "      <td>407</td>\n",
       "      <td>Edd</td>\n",
       "      <td>ER</td>\n",
       "      <td>338345</td>\n",
       "      <td>13.9297</td>\n",
       "      <td>41.6925</td>\n",
       "      <td>73.58</td>\n",
       "      <td>80</td>\n",
       "      <td>5.14</td>\n",
       "      <td>0</td>\n",
       "      <td></td>\n",
       "    </tr>\n",
       "    <tr>\n",
       "      <th>409</th>\n",
       "      <td>409</td>\n",
       "      <td>Doba</td>\n",
       "      <td>TD</td>\n",
       "      <td>2433437</td>\n",
       "      <td>8.6500</td>\n",
       "      <td>16.8500</td>\n",
       "      <td>75.40</td>\n",
       "      <td>19</td>\n",
       "      <td>5.61</td>\n",
       "      <td>0</td>\n",
       "      <td>Restaurant Auberge La Pétrolière</td>\n",
       "    </tr>\n",
       "    <tr>\n",
       "      <th>451</th>\n",
       "      <td>451</td>\n",
       "      <td>Tres Arroyos</td>\n",
       "      <td>AR</td>\n",
       "      <td>3833859</td>\n",
       "      <td>-38.3739</td>\n",
       "      <td>-60.2798</td>\n",
       "      <td>78.82</td>\n",
       "      <td>40</td>\n",
       "      <td>8.28</td>\n",
       "      <td>0</td>\n",
       "      <td>Habitacion Triple con baño y entrada privada</td>\n",
       "    </tr>\n",
       "    <tr>\n",
       "      <th>501</th>\n",
       "      <td>501</td>\n",
       "      <td>Duekoué</td>\n",
       "      <td>CI</td>\n",
       "      <td>2289549</td>\n",
       "      <td>6.7472</td>\n",
       "      <td>-7.3496</td>\n",
       "      <td>75.13</td>\n",
       "      <td>49</td>\n",
       "      <td>2.51</td>\n",
       "      <td>0</td>\n",
       "      <td>L'Etoile</td>\n",
       "    </tr>\n",
       "    <tr>\n",
       "      <th>531</th>\n",
       "      <td>531</td>\n",
       "      <td>Tolaga Bay</td>\n",
       "      <td>NZ</td>\n",
       "      <td>2180991</td>\n",
       "      <td>-38.3667</td>\n",
       "      <td>178.3000</td>\n",
       "      <td>72.10</td>\n",
       "      <td>51</td>\n",
       "      <td>8.84</td>\n",
       "      <td>0</td>\n",
       "      <td>Tolaga Bay Motel</td>\n",
       "    </tr>\n",
       "    <tr>\n",
       "      <th>535</th>\n",
       "      <td>535</td>\n",
       "      <td>Guerrero Negro</td>\n",
       "      <td>MX</td>\n",
       "      <td>4021858</td>\n",
       "      <td>27.9769</td>\n",
       "      <td>-114.0611</td>\n",
       "      <td>76.60</td>\n",
       "      <td>21</td>\n",
       "      <td>8.77</td>\n",
       "      <td>0</td>\n",
       "      <td>Casa Laguna, Bed &amp; Breakfast</td>\n",
       "    </tr>\n",
       "  </tbody>\n",
       "</table>\n",
       "</div>"
      ],
      "text/plain": [
       "     Unnamed: 0            City Country       ID  Latitude  Longitude  \\\n",
       "2             2           Pisco      PE  3932145  -13.7000   -76.2167   \n",
       "8             8      Entre Rios      BR  3464100  -11.9419   -38.0844   \n",
       "18           18         Malakal      SS   370737    9.5334    31.6605   \n",
       "95           95        Filingué      NE  2444995   14.3521     3.3168   \n",
       "129         129   Alice Springs      AU  2077895  -23.7000   133.8833   \n",
       "188         188      Bandiagara      ML  2460489   14.3501    -3.6104   \n",
       "200         200        Am Timan      TD   245338   11.0297    20.2827   \n",
       "258         258         Caborca      MX  3996893   30.5838  -111.1010   \n",
       "319         319           Minas      UY  3441665  -34.3759   -55.2377   \n",
       "334         334       Caravelas      BR  3466980  -17.7125   -39.2481   \n",
       "339         339        Bougouni      ML  2459775   11.4170    -7.4790   \n",
       "341         341       Geraldton      AU  2070998  -28.7667   114.6000   \n",
       "387         387       Bondoukou      CI  2291136    8.0333    -2.8000   \n",
       "407         407             Edd      ER   338345   13.9297    41.6925   \n",
       "409         409            Doba      TD  2433437    8.6500    16.8500   \n",
       "451         451    Tres Arroyos      AR  3833859  -38.3739   -60.2798   \n",
       "501         501         Duekoué      CI  2289549    6.7472    -7.3496   \n",
       "531         531      Tolaga Bay      NZ  2180991  -38.3667   178.3000   \n",
       "535         535  Guerrero Negro      MX  4021858   27.9769  -114.0611   \n",
       "\n",
       "     Max Temp  Humidity  Wind Speed  Cloudiness  \\\n",
       "2       75.20        73        5.75           0   \n",
       "8       72.07        82        5.19           0   \n",
       "18      79.03        24        7.61           0   \n",
       "95      73.51        20        8.84           0   \n",
       "129     77.00        28        8.05           0   \n",
       "188     75.20        33        4.61           0   \n",
       "200     72.10        21        5.23           0   \n",
       "258     79.00        12        7.00           0   \n",
       "319     73.40        64        5.75           0   \n",
       "334     77.20        78        7.05           0   \n",
       "339     74.39        18        5.17           0   \n",
       "341     75.20        73        3.85           0   \n",
       "387     79.30        17        2.24           0   \n",
       "407     73.58        80        5.14           0   \n",
       "409     75.40        19        5.61           0   \n",
       "451     78.82        40        8.28           0   \n",
       "501     75.13        49        2.51           0   \n",
       "531     72.10        51        8.84           0   \n",
       "535     76.60        21        8.77           0   \n",
       "\n",
       "                                       Hotel Name  \n",
       "2                        Hotel San Isidro Oficial  \n",
       "8                               Jambalaya Pousada  \n",
       "18                              Nile Palace Hotel  \n",
       "95                                                 \n",
       "129                    Desert Palms Alice Springs  \n",
       "188                           Hotel de la Falaise  \n",
       "200                  Palais du chef Canton Salamt  \n",
       "258                               Hotel Los Lagos  \n",
       "319                                   Hotel Minas  \n",
       "334                        Pousada dos Navegantes  \n",
       "339                                      Non Stop  \n",
       "341                     Broadwater Mariner Resort  \n",
       "387                                Prestige Hotel  \n",
       "407                                                \n",
       "409              Restaurant Auberge La Pétrolière  \n",
       "451  Habitacion Triple con baño y entrada privada  \n",
       "501                                      L'Etoile  \n",
       "531                              Tolaga Bay Motel  \n",
       "535                  Casa Laguna, Bed & Breakfast  "
      ]
     },
     "execution_count": 44,
     "metadata": {},
     "output_type": "execute_result"
    }
   ],
   "source": [
    "hotels_df"
   ]
  },
  {
   "cell_type": "code",
   "execution_count": 45,
   "metadata": {},
   "outputs": [],
   "source": [
    "hotels_df.to_csv(\"VacationPy/hotels.csv\")"
   ]
  },
  {
   "cell_type": "code",
   "execution_count": 48,
   "metadata": {},
   "outputs": [
    {
     "data": {
      "application/vnd.plotly.v1+json": {
       "config": {
        "plotlyServerURL": "https://plot.ly"
       },
       "data": [
        {
         "customdata": [
          [
           "Hotel San Isidro Oficial",
           "Pisco",
           "PE"
          ],
          [
           "Jambalaya Pousada",
           "Entre Rios",
           "BR"
          ],
          [
           "Nile Palace Hotel",
           "Malakal",
           "SS"
          ],
          [
           "",
           "Filingué",
           "NE"
          ],
          [
           "Desert Palms Alice Springs",
           "Alice Springs",
           "AU"
          ],
          [
           "Hotel de la Falaise",
           "Bandiagara",
           "ML"
          ],
          [
           "Palais du chef Canton Salamt",
           "Am Timan",
           "TD"
          ],
          [
           "Hotel Los Lagos",
           "Caborca",
           "MX"
          ],
          [
           "Hotel Minas",
           "Minas",
           "UY"
          ],
          [
           "Pousada dos Navegantes",
           "Caravelas",
           "BR"
          ],
          [
           "Non Stop",
           "Bougouni",
           "ML"
          ],
          [
           "Broadwater Mariner Resort",
           "Geraldton",
           "AU"
          ],
          [
           "Prestige Hotel",
           "Bondoukou",
           "CI"
          ],
          [
           "",
           "Edd",
           "ER"
          ],
          [
           "Restaurant Auberge La Pétrolière",
           "Doba",
           "TD"
          ],
          [
           "Habitacion Triple con baño y entrada privada",
           "Tres Arroyos",
           "AR"
          ],
          [
           "L'Etoile",
           "Duekoué",
           "CI"
          ],
          [
           "Tolaga Bay Motel",
           "Tolaga Bay",
           "NZ"
          ],
          [
           "Casa Laguna, Bed & Breakfast",
           "Guerrero Negro",
           "MX"
          ]
         ],
         "hovertemplate": "Humidity=%{marker.color}<br>Latitude=%{lat}<br>Longitude=%{lon}<br>Hotel Name=%{customdata[0]}<br>City=%{customdata[1]}<br>Country=%{customdata[2]}<extra></extra>",
         "lat": [
          -13.7,
          -11.9419,
          9.5334,
          14.3521,
          -23.7,
          14.3501,
          11.0297,
          30.5838,
          -34.3759,
          -17.7125,
          11.417,
          -28.7667,
          8.0333,
          13.9297,
          8.65,
          -38.3739,
          6.7472,
          -38.3667,
          27.9769
         ],
         "legendgroup": "",
         "lon": [
          -76.2167,
          -38.0844,
          31.6605,
          3.3168,
          133.8833,
          -3.6104,
          20.2827,
          -111.101,
          -55.2377,
          -39.2481,
          -7.479,
          114.6,
          -2.8,
          41.6925,
          16.85,
          -60.2798,
          -7.3496,
          178.3,
          -114.0611
         ],
         "marker": {
          "color": [
           73,
           82,
           24,
           20,
           28,
           33,
           21,
           12,
           64,
           78,
           18,
           73,
           17,
           80,
           19,
           40,
           49,
           51,
           21
          ],
          "coloraxis": "coloraxis",
          "size": [
           73,
           82,
           24,
           20,
           28,
           33,
           21,
           12,
           64,
           78,
           18,
           73,
           17,
           80,
           19,
           40,
           49,
           51,
           21
          ],
          "sizemode": "area",
          "sizeref": 0.205
         },
         "mode": "markers",
         "name": "",
         "showlegend": false,
         "subplot": "mapbox",
         "type": "scattermapbox"
        }
       ],
       "layout": {
        "coloraxis": {
         "colorbar": {
          "title": {
           "text": "Humidity"
          }
         },
         "colorscale": [
          [
           0,
           "#0d0887"
          ],
          [
           0.1111111111111111,
           "#46039f"
          ],
          [
           0.2222222222222222,
           "#7201a8"
          ],
          [
           0.3333333333333333,
           "#9c179e"
          ],
          [
           0.4444444444444444,
           "#bd3786"
          ],
          [
           0.5555555555555556,
           "#d8576b"
          ],
          [
           0.6666666666666666,
           "#ed7953"
          ],
          [
           0.7777777777777778,
           "#fb9f3a"
          ],
          [
           0.8888888888888888,
           "#fdca26"
          ],
          [
           1,
           "#f0f921"
          ]
         ]
        },
        "height": 600,
        "legend": {
         "itemsizing": "constant",
         "tracegroupgap": 0
        },
        "mapbox": {
         "accesstoken": "pk.eyJ1IjoieWFud2hvIiwiYSI6ImNrazJ4eWFmMzE1cjIydm55c2NtbnExMjgifQ.6_sx9gMM5jQY0lHqnGVIEg",
         "center": {
          "lat": -2.649178947368421,
          "lon": 1.3220000000000005
         },
         "domain": {
          "x": [
           0,
           1
          ],
          "y": [
           0,
           1
          ]
         },
         "zoom": 1
        },
        "template": {
         "data": {
          "bar": [
           {
            "error_x": {
             "color": "#2a3f5f"
            },
            "error_y": {
             "color": "#2a3f5f"
            },
            "marker": {
             "line": {
              "color": "#E5ECF6",
              "width": 0.5
             }
            },
            "type": "bar"
           }
          ],
          "barpolar": [
           {
            "marker": {
             "line": {
              "color": "#E5ECF6",
              "width": 0.5
             }
            },
            "type": "barpolar"
           }
          ],
          "carpet": [
           {
            "aaxis": {
             "endlinecolor": "#2a3f5f",
             "gridcolor": "white",
             "linecolor": "white",
             "minorgridcolor": "white",
             "startlinecolor": "#2a3f5f"
            },
            "baxis": {
             "endlinecolor": "#2a3f5f",
             "gridcolor": "white",
             "linecolor": "white",
             "minorgridcolor": "white",
             "startlinecolor": "#2a3f5f"
            },
            "type": "carpet"
           }
          ],
          "choropleth": [
           {
            "colorbar": {
             "outlinewidth": 0,
             "ticks": ""
            },
            "type": "choropleth"
           }
          ],
          "contour": [
           {
            "colorbar": {
             "outlinewidth": 0,
             "ticks": ""
            },
            "colorscale": [
             [
              0,
              "#0d0887"
             ],
             [
              0.1111111111111111,
              "#46039f"
             ],
             [
              0.2222222222222222,
              "#7201a8"
             ],
             [
              0.3333333333333333,
              "#9c179e"
             ],
             [
              0.4444444444444444,
              "#bd3786"
             ],
             [
              0.5555555555555556,
              "#d8576b"
             ],
             [
              0.6666666666666666,
              "#ed7953"
             ],
             [
              0.7777777777777778,
              "#fb9f3a"
             ],
             [
              0.8888888888888888,
              "#fdca26"
             ],
             [
              1,
              "#f0f921"
             ]
            ],
            "type": "contour"
           }
          ],
          "contourcarpet": [
           {
            "colorbar": {
             "outlinewidth": 0,
             "ticks": ""
            },
            "type": "contourcarpet"
           }
          ],
          "heatmap": [
           {
            "colorbar": {
             "outlinewidth": 0,
             "ticks": ""
            },
            "colorscale": [
             [
              0,
              "#0d0887"
             ],
             [
              0.1111111111111111,
              "#46039f"
             ],
             [
              0.2222222222222222,
              "#7201a8"
             ],
             [
              0.3333333333333333,
              "#9c179e"
             ],
             [
              0.4444444444444444,
              "#bd3786"
             ],
             [
              0.5555555555555556,
              "#d8576b"
             ],
             [
              0.6666666666666666,
              "#ed7953"
             ],
             [
              0.7777777777777778,
              "#fb9f3a"
             ],
             [
              0.8888888888888888,
              "#fdca26"
             ],
             [
              1,
              "#f0f921"
             ]
            ],
            "type": "heatmap"
           }
          ],
          "heatmapgl": [
           {
            "colorbar": {
             "outlinewidth": 0,
             "ticks": ""
            },
            "colorscale": [
             [
              0,
              "#0d0887"
             ],
             [
              0.1111111111111111,
              "#46039f"
             ],
             [
              0.2222222222222222,
              "#7201a8"
             ],
             [
              0.3333333333333333,
              "#9c179e"
             ],
             [
              0.4444444444444444,
              "#bd3786"
             ],
             [
              0.5555555555555556,
              "#d8576b"
             ],
             [
              0.6666666666666666,
              "#ed7953"
             ],
             [
              0.7777777777777778,
              "#fb9f3a"
             ],
             [
              0.8888888888888888,
              "#fdca26"
             ],
             [
              1,
              "#f0f921"
             ]
            ],
            "type": "heatmapgl"
           }
          ],
          "histogram": [
           {
            "marker": {
             "colorbar": {
              "outlinewidth": 0,
              "ticks": ""
             }
            },
            "type": "histogram"
           }
          ],
          "histogram2d": [
           {
            "colorbar": {
             "outlinewidth": 0,
             "ticks": ""
            },
            "colorscale": [
             [
              0,
              "#0d0887"
             ],
             [
              0.1111111111111111,
              "#46039f"
             ],
             [
              0.2222222222222222,
              "#7201a8"
             ],
             [
              0.3333333333333333,
              "#9c179e"
             ],
             [
              0.4444444444444444,
              "#bd3786"
             ],
             [
              0.5555555555555556,
              "#d8576b"
             ],
             [
              0.6666666666666666,
              "#ed7953"
             ],
             [
              0.7777777777777778,
              "#fb9f3a"
             ],
             [
              0.8888888888888888,
              "#fdca26"
             ],
             [
              1,
              "#f0f921"
             ]
            ],
            "type": "histogram2d"
           }
          ],
          "histogram2dcontour": [
           {
            "colorbar": {
             "outlinewidth": 0,
             "ticks": ""
            },
            "colorscale": [
             [
              0,
              "#0d0887"
             ],
             [
              0.1111111111111111,
              "#46039f"
             ],
             [
              0.2222222222222222,
              "#7201a8"
             ],
             [
              0.3333333333333333,
              "#9c179e"
             ],
             [
              0.4444444444444444,
              "#bd3786"
             ],
             [
              0.5555555555555556,
              "#d8576b"
             ],
             [
              0.6666666666666666,
              "#ed7953"
             ],
             [
              0.7777777777777778,
              "#fb9f3a"
             ],
             [
              0.8888888888888888,
              "#fdca26"
             ],
             [
              1,
              "#f0f921"
             ]
            ],
            "type": "histogram2dcontour"
           }
          ],
          "mesh3d": [
           {
            "colorbar": {
             "outlinewidth": 0,
             "ticks": ""
            },
            "type": "mesh3d"
           }
          ],
          "parcoords": [
           {
            "line": {
             "colorbar": {
              "outlinewidth": 0,
              "ticks": ""
             }
            },
            "type": "parcoords"
           }
          ],
          "pie": [
           {
            "automargin": true,
            "type": "pie"
           }
          ],
          "scatter": [
           {
            "marker": {
             "colorbar": {
              "outlinewidth": 0,
              "ticks": ""
             }
            },
            "type": "scatter"
           }
          ],
          "scatter3d": [
           {
            "line": {
             "colorbar": {
              "outlinewidth": 0,
              "ticks": ""
             }
            },
            "marker": {
             "colorbar": {
              "outlinewidth": 0,
              "ticks": ""
             }
            },
            "type": "scatter3d"
           }
          ],
          "scattercarpet": [
           {
            "marker": {
             "colorbar": {
              "outlinewidth": 0,
              "ticks": ""
             }
            },
            "type": "scattercarpet"
           }
          ],
          "scattergeo": [
           {
            "marker": {
             "colorbar": {
              "outlinewidth": 0,
              "ticks": ""
             }
            },
            "type": "scattergeo"
           }
          ],
          "scattergl": [
           {
            "marker": {
             "colorbar": {
              "outlinewidth": 0,
              "ticks": ""
             }
            },
            "type": "scattergl"
           }
          ],
          "scattermapbox": [
           {
            "marker": {
             "colorbar": {
              "outlinewidth": 0,
              "ticks": ""
             }
            },
            "type": "scattermapbox"
           }
          ],
          "scatterpolar": [
           {
            "marker": {
             "colorbar": {
              "outlinewidth": 0,
              "ticks": ""
             }
            },
            "type": "scatterpolar"
           }
          ],
          "scatterpolargl": [
           {
            "marker": {
             "colorbar": {
              "outlinewidth": 0,
              "ticks": ""
             }
            },
            "type": "scatterpolargl"
           }
          ],
          "scatterternary": [
           {
            "marker": {
             "colorbar": {
              "outlinewidth": 0,
              "ticks": ""
             }
            },
            "type": "scatterternary"
           }
          ],
          "surface": [
           {
            "colorbar": {
             "outlinewidth": 0,
             "ticks": ""
            },
            "colorscale": [
             [
              0,
              "#0d0887"
             ],
             [
              0.1111111111111111,
              "#46039f"
             ],
             [
              0.2222222222222222,
              "#7201a8"
             ],
             [
              0.3333333333333333,
              "#9c179e"
             ],
             [
              0.4444444444444444,
              "#bd3786"
             ],
             [
              0.5555555555555556,
              "#d8576b"
             ],
             [
              0.6666666666666666,
              "#ed7953"
             ],
             [
              0.7777777777777778,
              "#fb9f3a"
             ],
             [
              0.8888888888888888,
              "#fdca26"
             ],
             [
              1,
              "#f0f921"
             ]
            ],
            "type": "surface"
           }
          ],
          "table": [
           {
            "cells": {
             "fill": {
              "color": "#EBF0F8"
             },
             "line": {
              "color": "white"
             }
            },
            "header": {
             "fill": {
              "color": "#C8D4E3"
             },
             "line": {
              "color": "white"
             }
            },
            "type": "table"
           }
          ]
         },
         "layout": {
          "annotationdefaults": {
           "arrowcolor": "#2a3f5f",
           "arrowhead": 0,
           "arrowwidth": 1
          },
          "coloraxis": {
           "colorbar": {
            "outlinewidth": 0,
            "ticks": ""
           }
          },
          "colorscale": {
           "diverging": [
            [
             0,
             "#8e0152"
            ],
            [
             0.1,
             "#c51b7d"
            ],
            [
             0.2,
             "#de77ae"
            ],
            [
             0.3,
             "#f1b6da"
            ],
            [
             0.4,
             "#fde0ef"
            ],
            [
             0.5,
             "#f7f7f7"
            ],
            [
             0.6,
             "#e6f5d0"
            ],
            [
             0.7,
             "#b8e186"
            ],
            [
             0.8,
             "#7fbc41"
            ],
            [
             0.9,
             "#4d9221"
            ],
            [
             1,
             "#276419"
            ]
           ],
           "sequential": [
            [
             0,
             "#0d0887"
            ],
            [
             0.1111111111111111,
             "#46039f"
            ],
            [
             0.2222222222222222,
             "#7201a8"
            ],
            [
             0.3333333333333333,
             "#9c179e"
            ],
            [
             0.4444444444444444,
             "#bd3786"
            ],
            [
             0.5555555555555556,
             "#d8576b"
            ],
            [
             0.6666666666666666,
             "#ed7953"
            ],
            [
             0.7777777777777778,
             "#fb9f3a"
            ],
            [
             0.8888888888888888,
             "#fdca26"
            ],
            [
             1,
             "#f0f921"
            ]
           ],
           "sequentialminus": [
            [
             0,
             "#0d0887"
            ],
            [
             0.1111111111111111,
             "#46039f"
            ],
            [
             0.2222222222222222,
             "#7201a8"
            ],
            [
             0.3333333333333333,
             "#9c179e"
            ],
            [
             0.4444444444444444,
             "#bd3786"
            ],
            [
             0.5555555555555556,
             "#d8576b"
            ],
            [
             0.6666666666666666,
             "#ed7953"
            ],
            [
             0.7777777777777778,
             "#fb9f3a"
            ],
            [
             0.8888888888888888,
             "#fdca26"
            ],
            [
             1,
             "#f0f921"
            ]
           ]
          },
          "colorway": [
           "#636efa",
           "#EF553B",
           "#00cc96",
           "#ab63fa",
           "#FFA15A",
           "#19d3f3",
           "#FF6692",
           "#B6E880",
           "#FF97FF",
           "#FECB52"
          ],
          "font": {
           "color": "#2a3f5f"
          },
          "geo": {
           "bgcolor": "white",
           "lakecolor": "white",
           "landcolor": "#E5ECF6",
           "showlakes": true,
           "showland": true,
           "subunitcolor": "white"
          },
          "hoverlabel": {
           "align": "left"
          },
          "hovermode": "closest",
          "mapbox": {
           "style": "light"
          },
          "paper_bgcolor": "white",
          "plot_bgcolor": "#E5ECF6",
          "polar": {
           "angularaxis": {
            "gridcolor": "white",
            "linecolor": "white",
            "ticks": ""
           },
           "bgcolor": "#E5ECF6",
           "radialaxis": {
            "gridcolor": "white",
            "linecolor": "white",
            "ticks": ""
           }
          },
          "scene": {
           "xaxis": {
            "backgroundcolor": "#E5ECF6",
            "gridcolor": "white",
            "gridwidth": 2,
            "linecolor": "white",
            "showbackground": true,
            "ticks": "",
            "zerolinecolor": "white"
           },
           "yaxis": {
            "backgroundcolor": "#E5ECF6",
            "gridcolor": "white",
            "gridwidth": 2,
            "linecolor": "white",
            "showbackground": true,
            "ticks": "",
            "zerolinecolor": "white"
           },
           "zaxis": {
            "backgroundcolor": "#E5ECF6",
            "gridcolor": "white",
            "gridwidth": 2,
            "linecolor": "white",
            "showbackground": true,
            "ticks": "",
            "zerolinecolor": "white"
           }
          },
          "shapedefaults": {
           "line": {
            "color": "#2a3f5f"
           }
          },
          "ternary": {
           "aaxis": {
            "gridcolor": "white",
            "linecolor": "white",
            "ticks": ""
           },
           "baxis": {
            "gridcolor": "white",
            "linecolor": "white",
            "ticks": ""
           },
           "bgcolor": "#E5ECF6",
           "caxis": {
            "gridcolor": "white",
            "linecolor": "white",
            "ticks": ""
           }
          },
          "title": {
           "x": 0.05
          },
          "xaxis": {
           "automargin": true,
           "gridcolor": "white",
           "linecolor": "white",
           "ticks": "",
           "title": {
            "standoff": 15
           },
           "zerolinecolor": "white",
           "zerolinewidth": 2
          },
          "yaxis": {
           "automargin": true,
           "gridcolor": "white",
           "linecolor": "white",
           "ticks": "",
           "title": {
            "standoff": 15
           },
           "zerolinecolor": "white",
           "zerolinewidth": 2
          }
         }
        },
        "title": {
         "text": "Best Places To Vacation!"
        },
        "width": 1000
       }
      },
      "image/png": "[encoded data removed]",
      "text/html": [
       "<div>                            <div id=\"473a18c4-ac7f-4cea-8f02-e374c8ba9819\" class=\"plotly-graph-div\" style=\"height:600px; width:1000px;\"></div>            <script type=\"text/javascript\">                require([\"plotly\"], function(Plotly) {                    window.PLOTLYENV=window.PLOTLYENV || {};                                    if (document.getElementById(\"473a18c4-ac7f-4cea-8f02-e374c8ba9819\")) {                    Plotly.newPlot(                        \"473a18c4-ac7f-4cea-8f02-e374c8ba9819\",                        [{\"customdata\": [[\"Hotel San Isidro Oficial\", \"Pisco\", \"PE\"], [\"Jambalaya Pousada\", \"Entre Rios\", \"BR\"], [\"Nile Palace Hotel\", \"Malakal\", \"SS\"], [\"\", \"Filingu\\u00e9\", \"NE\"], [\"Desert Palms Alice Springs\", \"Alice Springs\", \"AU\"], [\"Hotel de la Falaise\", \"Bandiagara\", \"ML\"], [\"Palais du chef Canton Salamt\", \"Am Timan\", \"TD\"], [\"Hotel Los Lagos\", \"Caborca\", \"MX\"], [\"Hotel Minas\", \"Minas\", \"UY\"], [\"Pousada dos Navegantes\", \"Caravelas\", \"BR\"], [\"Non Stop\", \"Bougouni\", \"ML\"], [\"Broadwater Mariner Resort\", \"Geraldton\", \"AU\"], [\"Prestige Hotel\", \"Bondoukou\", \"CI\"], [\"\", \"Edd\", \"ER\"], [\"Restaurant Auberge La P\\u00e9troli\\u00e8re\", \"Doba\", \"TD\"], [\"Habitacion Triple con ba\\u00f1o y entrada privada\", \"Tres Arroyos\", \"AR\"], [\"L'Etoile\", \"Duekou\\u00e9\", \"CI\"], [\"Tolaga Bay Motel\", \"Tolaga Bay\", \"NZ\"], [\"Casa Laguna, Bed & Breakfast\", \"Guerrero Negro\", \"MX\"]], \"hovertemplate\": \"Humidity=%{marker.color}<br>Latitude=%{lat}<br>Longitude=%{lon}<br>Hotel Name=%{customdata[0]}<br>City=%{customdata[1]}<br>Country=%{customdata[2]}<extra></extra>\", \"lat\": [-13.7, -11.9419, 9.5334, 14.3521, -23.7, 14.3501, 11.0297, 30.5838, -34.3759, -17.7125, 11.417, -28.7667, 8.0333, 13.9297, 8.65, -38.3739, 6.7472, -38.3667, 27.9769], \"legendgroup\": \"\", \"lon\": [-76.2167, -38.0844, 31.6605, 3.3168, 133.8833, -3.6104, 20.2827, -111.101, -55.2377, -39.2481, -7.479, 114.6, -2.8, 41.6925, 16.85, -60.2798, -7.3496, 178.3, -114.0611], \"marker\": {\"color\": [73, 82, 24, 20, 28, 33, 21, 12, 64, 78, 18, 73, 17, 80, 19, 40, 49, 51, 21], \"coloraxis\": \"coloraxis\", \"size\": [73, 82, 24, 20, 28, 33, 21, 12, 64, 78, 18, 73, 17, 80, 19, 40, 49, 51, 21], \"sizemode\": \"area\", \"sizeref\": 0.205}, \"mode\": \"markers\", \"name\": \"\", \"showlegend\": false, \"subplot\": \"mapbox\", \"type\": \"scattermapbox\"}],                        {\"coloraxis\": {\"colorbar\": {\"title\": {\"text\": \"Humidity\"}}, \"colorscale\": [[0.0, \"#0d0887\"], [0.1111111111111111, \"#46039f\"], [0.2222222222222222, \"#7201a8\"], [0.3333333333333333, \"#9c179e\"], [0.4444444444444444, \"#bd3786\"], [0.5555555555555556, \"#d8576b\"], [0.6666666666666666, \"#ed7953\"], [0.7777777777777778, \"#fb9f3a\"], [0.8888888888888888, \"#fdca26\"], [1.0, \"#f0f921\"]]}, \"height\": 600, \"legend\": {\"itemsizing\": \"constant\", \"tracegroupgap\": 0}, \"mapbox\": {\"accesstoken\": \"pk.eyJ1IjoieWFud2hvIiwiYSI6ImNrazJ4eWFmMzE1cjIydm55c2NtbnExMjgifQ.6_sx9gMM5jQY0lHqnGVIEg\", \"center\": {\"lat\": -2.649178947368421, \"lon\": 1.3220000000000005}, \"domain\": {\"x\": [0.0, 1.0], \"y\": [0.0, 1.0]}, \"zoom\": 1}, \"template\": {\"data\": {\"bar\": [{\"error_x\": {\"color\": \"#2a3f5f\"}, \"error_y\": {\"color\": \"#2a3f5f\"}, \"marker\": {\"line\": {\"color\": \"#E5ECF6\", \"width\": 0.5}}, \"type\": \"bar\"}], \"barpolar\": [{\"marker\": {\"line\": {\"color\": \"#E5ECF6\", \"width\": 0.5}}, \"type\": \"barpolar\"}], \"carpet\": [{\"aaxis\": {\"endlinecolor\": \"#2a3f5f\", \"gridcolor\": \"white\", \"linecolor\": \"white\", \"minorgridcolor\": \"white\", \"startlinecolor\": \"#2a3f5f\"}, \"baxis\": {\"endlinecolor\": \"#2a3f5f\", \"gridcolor\": \"white\", \"linecolor\": \"white\", \"minorgridcolor\": \"white\", \"startlinecolor\": \"#2a3f5f\"}, \"type\": \"carpet\"}], \"choropleth\": [{\"colorbar\": {\"outlinewidth\": 0, \"ticks\": \"\"}, \"type\": \"choropleth\"}], \"contour\": [{\"colorbar\": {\"outlinewidth\": 0, \"ticks\": \"\"}, \"colorscale\": [[0.0, \"#0d0887\"], [0.1111111111111111, \"#46039f\"], [0.2222222222222222, \"#7201a8\"], [0.3333333333333333, \"#9c179e\"], [0.4444444444444444, \"#bd3786\"], [0.5555555555555556, \"#d8576b\"], [0.6666666666666666, \"#ed7953\"], [0.7777777777777778, \"#fb9f3a\"], [0.8888888888888888, \"#fdca26\"], [1.0, \"#f0f921\"]], \"type\": \"contour\"}], \"contourcarpet\": [{\"colorbar\": {\"outlinewidth\": 0, \"ticks\": \"\"}, \"type\": \"contourcarpet\"}], \"heatmap\": [{\"colorbar\": {\"outlinewidth\": 0, \"ticks\": \"\"}, \"colorscale\": [[0.0, \"#0d0887\"], [0.1111111111111111, \"#46039f\"], [0.2222222222222222, \"#7201a8\"], [0.3333333333333333, \"#9c179e\"], [0.4444444444444444, \"#bd3786\"], [0.5555555555555556, \"#d8576b\"], [0.6666666666666666, \"#ed7953\"], [0.7777777777777778, \"#fb9f3a\"], [0.8888888888888888, \"#fdca26\"], [1.0, \"#f0f921\"]], \"type\": \"heatmap\"}], \"heatmapgl\": [{\"colorbar\": {\"outlinewidth\": 0, \"ticks\": \"\"}, \"colorscale\": [[0.0, \"#0d0887\"], [0.1111111111111111, \"#46039f\"], [0.2222222222222222, \"#7201a8\"], [0.3333333333333333, \"#9c179e\"], [0.4444444444444444, \"#bd3786\"], [0.5555555555555556, \"#d8576b\"], [0.6666666666666666, \"#ed7953\"], [0.7777777777777778, \"#fb9f3a\"], [0.8888888888888888, \"#fdca26\"], [1.0, \"#f0f921\"]], \"type\": \"heatmapgl\"}], \"histogram\": [{\"marker\": {\"colorbar\": {\"outlinewidth\": 0, \"ticks\": \"\"}}, \"type\": \"histogram\"}], \"histogram2d\": [{\"colorbar\": {\"outlinewidth\": 0, \"ticks\": \"\"}, \"colorscale\": [[0.0, \"#0d0887\"], [0.1111111111111111, \"#46039f\"], [0.2222222222222222, \"#7201a8\"], [0.3333333333333333, \"#9c179e\"], [0.4444444444444444, \"#bd3786\"], [0.5555555555555556, \"#d8576b\"], [0.6666666666666666, \"#ed7953\"], [0.7777777777777778, \"#fb9f3a\"], [0.8888888888888888, \"#fdca26\"], [1.0, \"#f0f921\"]], \"type\": \"histogram2d\"}], \"histogram2dcontour\": [{\"colorbar\": {\"outlinewidth\": 0, \"ticks\": \"\"}, \"colorscale\": [[0.0, \"#0d0887\"], [0.1111111111111111, \"#46039f\"], [0.2222222222222222, \"#7201a8\"], [0.3333333333333333, \"#9c179e\"], [0.4444444444444444, \"#bd3786\"], [0.5555555555555556, \"#d8576b\"], [0.6666666666666666, \"#ed7953\"], [0.7777777777777778, \"#fb9f3a\"], [0.8888888888888888, \"#fdca26\"], [1.0, \"#f0f921\"]], \"type\": \"histogram2dcontour\"}], \"mesh3d\": [{\"colorbar\": {\"outlinewidth\": 0, \"ticks\": \"\"}, \"type\": \"mesh3d\"}], \"parcoords\": [{\"line\": {\"colorbar\": {\"outlinewidth\": 0, \"ticks\": \"\"}}, \"type\": \"parcoords\"}], \"pie\": [{\"automargin\": true, \"type\": \"pie\"}], \"scatter\": [{\"marker\": {\"colorbar\": {\"outlinewidth\": 0, \"ticks\": \"\"}}, \"type\": \"scatter\"}], \"scatter3d\": [{\"line\": {\"colorbar\": {\"outlinewidth\": 0, \"ticks\": \"\"}}, \"marker\": {\"colorbar\": {\"outlinewidth\": 0, \"ticks\": \"\"}}, \"type\": \"scatter3d\"}], \"scattercarpet\": [{\"marker\": {\"colorbar\": {\"outlinewidth\": 0, \"ticks\": \"\"}}, \"type\": \"scattercarpet\"}], \"scattergeo\": [{\"marker\": {\"colorbar\": {\"outlinewidth\": 0, \"ticks\": \"\"}}, \"type\": \"scattergeo\"}], \"scattergl\": [{\"marker\": {\"colorbar\": {\"outlinewidth\": 0, \"ticks\": \"\"}}, \"type\": \"scattergl\"}], \"scattermapbox\": [{\"marker\": {\"colorbar\": {\"outlinewidth\": 0, \"ticks\": \"\"}}, \"type\": \"scattermapbox\"}], \"scatterpolar\": [{\"marker\": {\"colorbar\": {\"outlinewidth\": 0, \"ticks\": \"\"}}, \"type\": \"scatterpolar\"}], \"scatterpolargl\": [{\"marker\": {\"colorbar\": {\"outlinewidth\": 0, \"ticks\": \"\"}}, \"type\": \"scatterpolargl\"}], \"scatterternary\": [{\"marker\": {\"colorbar\": {\"outlinewidth\": 0, \"ticks\": \"\"}}, \"type\": \"scatterternary\"}], \"surface\": [{\"colorbar\": {\"outlinewidth\": 0, \"ticks\": \"\"}, \"colorscale\": [[0.0, \"#0d0887\"], [0.1111111111111111, \"#46039f\"], [0.2222222222222222, \"#7201a8\"], [0.3333333333333333, \"#9c179e\"], [0.4444444444444444, \"#bd3786\"], [0.5555555555555556, \"#d8576b\"], [0.6666666666666666, \"#ed7953\"], [0.7777777777777778, \"#fb9f3a\"], [0.8888888888888888, \"#fdca26\"], [1.0, \"#f0f921\"]], \"type\": \"surface\"}], \"table\": [{\"cells\": {\"fill\": {\"color\": \"#EBF0F8\"}, \"line\": {\"color\": \"white\"}}, \"header\": {\"fill\": {\"color\": \"#C8D4E3\"}, \"line\": {\"color\": \"white\"}}, \"type\": \"table\"}]}, \"layout\": {\"annotationdefaults\": {\"arrowcolor\": \"#2a3f5f\", \"arrowhead\": 0, \"arrowwidth\": 1}, \"coloraxis\": {\"colorbar\": {\"outlinewidth\": 0, \"ticks\": \"\"}}, \"colorscale\": {\"diverging\": [[0, \"#8e0152\"], [0.1, \"#c51b7d\"], [0.2, \"#de77ae\"], [0.3, \"#f1b6da\"], [0.4, \"#fde0ef\"], [0.5, \"#f7f7f7\"], [0.6, \"#e6f5d0\"], [0.7, \"#b8e186\"], [0.8, \"#7fbc41\"], [0.9, \"#4d9221\"], [1, \"#276419\"]], \"sequential\": [[0.0, \"#0d0887\"], [0.1111111111111111, \"#46039f\"], [0.2222222222222222, \"#7201a8\"], [0.3333333333333333, \"#9c179e\"], [0.4444444444444444, \"#bd3786\"], [0.5555555555555556, \"#d8576b\"], [0.6666666666666666, \"#ed7953\"], [0.7777777777777778, \"#fb9f3a\"], [0.8888888888888888, \"#fdca26\"], [1.0, \"#f0f921\"]], \"sequentialminus\": [[0.0, \"#0d0887\"], [0.1111111111111111, \"#46039f\"], [0.2222222222222222, \"#7201a8\"], [0.3333333333333333, \"#9c179e\"], [0.4444444444444444, \"#bd3786\"], [0.5555555555555556, \"#d8576b\"], [0.6666666666666666, \"#ed7953\"], [0.7777777777777778, \"#fb9f3a\"], [0.8888888888888888, \"#fdca26\"], [1.0, \"#f0f921\"]]}, \"colorway\": [\"#636efa\", \"#EF553B\", \"#00cc96\", \"#ab63fa\", \"#FFA15A\", \"#19d3f3\", \"#FF6692\", \"#B6E880\", \"#FF97FF\", \"#FECB52\"], \"font\": {\"color\": \"#2a3f5f\"}, \"geo\": {\"bgcolor\": \"white\", \"lakecolor\": \"white\", \"landcolor\": \"#E5ECF6\", \"showlakes\": true, \"showland\": true, \"subunitcolor\": \"white\"}, \"hoverlabel\": {\"align\": \"left\"}, \"hovermode\": \"closest\", \"mapbox\": {\"style\": \"light\"}, \"paper_bgcolor\": \"white\", \"plot_bgcolor\": \"#E5ECF6\", \"polar\": {\"angularaxis\": {\"gridcolor\": \"white\", \"linecolor\": \"white\", \"ticks\": \"\"}, \"bgcolor\": \"#E5ECF6\", \"radialaxis\": {\"gridcolor\": \"white\", \"linecolor\": \"white\", \"ticks\": \"\"}}, \"scene\": {\"xaxis\": {\"backgroundcolor\": \"#E5ECF6\", \"gridcolor\": \"white\", \"gridwidth\": 2, \"linecolor\": \"white\", \"showbackground\": true, \"ticks\": \"\", \"zerolinecolor\": \"white\"}, \"yaxis\": {\"backgroundcolor\": \"#E5ECF6\", \"gridcolor\": \"white\", \"gridwidth\": 2, \"linecolor\": \"white\", \"showbackground\": true, \"ticks\": \"\", \"zerolinecolor\": \"white\"}, \"zaxis\": {\"backgroundcolor\": \"#E5ECF6\", \"gridcolor\": \"white\", \"gridwidth\": 2, \"linecolor\": \"white\", \"showbackground\": true, \"ticks\": \"\", \"zerolinecolor\": \"white\"}}, \"shapedefaults\": {\"line\": {\"color\": \"#2a3f5f\"}}, \"ternary\": {\"aaxis\": {\"gridcolor\": \"white\", \"linecolor\": \"white\", \"ticks\": \"\"}, \"baxis\": {\"gridcolor\": \"white\", \"linecolor\": \"white\", \"ticks\": \"\"}, \"bgcolor\": \"#E5ECF6\", \"caxis\": {\"gridcolor\": \"white\", \"linecolor\": \"white\", \"ticks\": \"\"}}, \"title\": {\"x\": 0.05}, \"xaxis\": {\"automargin\": true, \"gridcolor\": \"white\", \"linecolor\": \"white\", \"ticks\": \"\", \"title\": {\"standoff\": 15}, \"zerolinecolor\": \"white\", \"zerolinewidth\": 2}, \"yaxis\": {\"automargin\": true, \"gridcolor\": \"white\", \"linecolor\": \"white\", \"ticks\": \"\", \"title\": {\"standoff\": 15}, \"zerolinecolor\": \"white\", \"zerolinewidth\": 2}}}, \"title\": {\"text\": \"Best Places To Vacation!\"}, \"width\": 1000},                        {\"responsive\": true}                    ).then(function(){\n",
       "                            \n",
       "var gd = document.getElementById('473a18c4-ac7f-4cea-8f02-e374c8ba9819');\n",
       "var x = new MutationObserver(function (mutations, observer) {{\n",
       "        var display = window.getComputedStyle(gd).display;\n",
       "        if (!display || display === 'none') {{\n",
       "            console.log([gd, 'removed!']);\n",
       "            Plotly.purge(gd);\n",
       "            observer.disconnect();\n",
       "        }}\n",
       "}});\n",
       "\n",
       "// Listen for the removal of the full notebook cells\n",
       "var notebookContainer = gd.closest('#notebook-container');\n",
       "if (notebookContainer) {{\n",
       "    x.observe(notebookContainer, {childList: true});\n",
       "}}\n",
       "\n",
       "// Listen for the clearing of the current output cell\n",
       "var outputEl = gd.closest('.output');\n",
       "if (outputEl) {{\n",
       "    x.observe(outputEl, {childList: true});\n",
       "}}\n",
       "\n",
       "                        })                };                });            </script>        </div>"
      ]
     },
     "metadata": {},
     "output_type": "display_data"
    }
   ],
   "source": [
    "px.set_mapbox_access_token(mapbox_token)\n",
    "fig_map_hotels= px.scatter_mapbox(\n",
    "    hotels_df,\n",
    "    lat=\"Latitude\",\n",
    "    lon=\"Longitude\",\n",
    "    title=\"Best Places To Vacation!\",\n",
    "    color=\"Humidity\",\n",
    "    size=\"Humidity\",\n",
    "    hover_data=[\"Hotel Name\", \"City\", \"Country\" ],\n",
    "    zoom=1,\n",
    "    height=600,\n",
    "    width=1000,\n",
    ")\n",
    "fig_map_hotels.write_image(\"figures/hotel_map.png\")\n",
    "fig_map_hotels.show()"
   ]
  },
  {
   "cell_type": "code",
   "execution_count": null,
   "metadata": {},
   "outputs": [],
   "source": []
  }
 ],
 "metadata": {
  "environment": {
   "name": "common-cpu.m54",
   "type": "gcloud",
   "uri": "gcr.io/deeplearning-platform-release/base-cpu:m54"
  },
  "kernelspec": {
   "display_name": "Python 3",
   "language": "python",
   "name": "python3"
  },
  "language_info": {
   "codemirror_mode": {
    "name": "ipython",
    "version": 3
   },
   "file_extension": ".py",
   "mimetype": "text/x-python",
   "name": "python",
   "nbconvert_exporter": "python",
   "pygments_lexer": "ipython3",
   "version": "3.7.8"
  }
 },
 "nbformat": 4,
 "nbformat_minor": 4
}
