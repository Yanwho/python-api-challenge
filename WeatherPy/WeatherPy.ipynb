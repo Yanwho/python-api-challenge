{
 "cells": [
  {
   "cell_type": "code",
   "execution_count": 19,
   "metadata": {},
   "outputs": [],
   "source": [
    "import pandas as pd\n",
    "import csv\n",
    "import os\n",
    "import json\n",
    "import numpy as np\n",
    "from citipy import citipy\n",
    "import requests\n",
    "import matplotlib.pyplot as plt\n"
   ]
  },
  {
   "cell_type": "code",
   "execution_count": 20,
   "metadata": {},
   "outputs": [],
   "source": [
    "os.chdir(\"../python-api-challenge\")"
   ]
  },
  {
   "cell_type": "code",
   "execution_count": 21,
   "metadata": {},
   "outputs": [
    {
     "ename": "ModuleNotFoundError",
     "evalue": "No module named 'config'",
     "output_type": "error",
     "traceback": [
      "\u001b[0;31m---------------------------------------------------------------------------\u001b[0m",
      "\u001b[0;31mModuleNotFoundError\u001b[0m                       Traceback (most recent call last)",
      "\u001b[0;32m<ipython-input-21-b26145076d22>\u001b[0m in \u001b[0;36m<module>\u001b[0;34m\u001b[0m\n\u001b[0;32m----> 1\u001b[0;31m \u001b[0;32mfrom\u001b[0m \u001b[0mconfig\u001b[0m \u001b[0;32mimport\u001b[0m \u001b[0mapi_key\u001b[0m\u001b[0;34m\u001b[0m\u001b[0;34m\u001b[0m\u001b[0m\n\u001b[0m",
      "\u001b[0;31mModuleNotFoundError\u001b[0m: No module named 'config'"
     ]
    }
   ],
   "source": [
    "from config import api_key"
   ]
  },
  {
   "cell_type": "code",
   "execution_count": null,
   "metadata": {},
   "outputs": [],
   "source": [
    "from datetime import date\n",
    "\n",
    "today = date.today()\n",
    "\n",
    "d1 = today.strftime(\"%m/%d/%Y\")\n",
    "print(\"Today's Date:\", d1)"
   ]
  },
  {
   "cell_type": "code",
   "execution_count": null,
   "metadata": {},
   "outputs": [],
   "source": [
    "# create list of random latitudes evenly distributed across globe\n",
    "\n",
    "lat = np.random.uniform(low=-90.000, high=90.000, size=2000)"
   ]
  },
  {
   "cell_type": "code",
   "execution_count": null,
   "metadata": {},
   "outputs": [],
   "source": [
    "# create list of random longitudes evenly distributed across globe\n",
    "\n",
    "long = np.random.uniform(low=-180.000, high=180.000, size=2000)"
   ]
  },
  {
   "cell_type": "code",
   "execution_count": null,
   "metadata": {},
   "outputs": [],
   "source": [
    "# combine lat and long\n",
    "\n",
    "latlong = zip(lat, long)"
   ]
  },
  {
   "cell_type": "code",
   "execution_count": null,
   "metadata": {},
   "outputs": [],
   "source": [
    "# create list of latitude and longitude combinations \n",
    "\n",
    "coordinates=list(latlong)"
   ]
  },
  {
   "cell_type": "code",
   "execution_count": null,
   "metadata": {},
   "outputs": [],
   "source": [
    "latlong"
   ]
  },
  {
   "cell_type": "code",
   "execution_count": null,
   "metadata": {},
   "outputs": [],
   "source": [
    "coordinates"
   ]
  },
  {
   "cell_type": "code",
   "execution_count": null,
   "metadata": {},
   "outputs": [],
   "source": [
    "# create empty lists to be populated in loops\n",
    "\n",
    "cities=[]\n",
    "\n",
    "city_name=[]\n",
    "country=[]\n",
    "city_id=[]\n",
    "latitude=[]\n",
    "longitude=[]\n",
    "max_temp=[]\n",
    "humidity=[]\n",
    "wind_speed=[]\n",
    "cloudiness=[]"
   ]
  },
  {
   "cell_type": "code",
   "execution_count": null,
   "metadata": {},
   "outputs": [],
   "source": [
    "# populate cities list\n",
    "\n",
    "for x in coordinates:\n",
    "    city = citipy.nearest_city(x[0],x[1]).city_name\n",
    "    if city not in cities:\n",
    "        cities.append(city)\n",
    "  "
   ]
  },
  {
   "cell_type": "code",
   "execution_count": null,
   "metadata": {},
   "outputs": [],
   "source": [
    "# create vairable for base url to be used when making api calls\n",
    "\n",
    "url = \"http://api.openweathermap.org/data/2.5/weather?units=Imperial\"\n",
    "# city = []\n",
    "\n"
   ]
  },
  {
   "cell_type": "code",
   "execution_count": null,
   "metadata": {},
   "outputs": [],
   "source": [
    "# loop through city names and create unique api calls for each city\n",
    "# populate lists for desired fields from returned json\n",
    "# skip cities that so not result in a successful api call\n",
    "\n",
    "for city in cities:\n",
    "\n",
    "    query_url = url + \"&appid=\" + api_key + \"&q=\" + city\n",
    "    weather_response = requests.get(query_url).json()\n",
    "\n",
    "    try:\n",
    "        city_name.append(weather_response[\"name\"])\n",
    "        country.append(weather_response[\"sys\"][\"country\"])\n",
    "        city_id.append(weather_response[\"id\"])\n",
    "        latitude.append(weather_response[\"coord\"][\"lat\"])\n",
    "        longitude.append(weather_response[\"coord\"][\"lon\"])\n",
    "        max_temp.append(weather_response[\"main\"][\"temp_max\"])\n",
    "        humidity.append(weather_response[\"main\"][\"humidity\"])\n",
    "        wind_speed.append(weather_response[\"wind\"][\"speed\"])\n",
    "        cloudiness.append(weather_response[\"clouds\"][\"all\"])\n",
    "        print(city, \"success\")\n",
    "    except:\n",
    "        print(city, \"CITY NOT FOUND!\")\n",
    "    pass\n"
   ]
  },
  {
   "cell_type": "code",
   "execution_count": null,
   "metadata": {},
   "outputs": [],
   "source": [
    "# create pandas dataframe from lists populated by series of api calls\n",
    "\n",
    "results_df=pd.DataFrame({\"City\":pd.Series(city_name), \n",
    "                         \"Country\":pd.Series(country),\n",
    "                         \"ID\":pd.Series(city_id),\n",
    "                         \"Latitude\":pd.Series(latitude), \n",
    "                         \"Longitude\":pd.Series(longitude), \n",
    "                         \"Max Temp\":pd.Series(max_temp), \n",
    "                         \"Humidity\":pd.Series(humidity), \n",
    "                         \"Wind Speed\":pd.Series(wind_speed),\n",
    "                         \"Cloudiness\":pd.Series(cloudiness)\n",
    "                        })\n",
    "\n",
    "results_df"
   ]
  },
  {
   "cell_type": "code",
   "execution_count": null,
   "metadata": {},
   "outputs": [],
   "source": [
    "# export dataframe to a csv file\n",
    "\n",
    "results_df.to_csv(\"WeatherPy/results.csv\")"
   ]
  },
  {
   "cell_type": "code",
   "execution_count": null,
   "metadata": {},
   "outputs": [],
   "source": [
    "plt.scatter(results_df[\"Latitude\"], results_df[\"Max Temp\"])\n",
    "plt.title(f\"°Latitude vs. Temperature {d1}\")\n",
    "plt.ylabel(\"Temperature (°F)\")\n",
    "plt.xlabel(\"°Latitude\")\n",
    "plt.grid(True)\n",
    "\n",
    "plt.savefig(\"figures/max_temp.png\")"
   ]
  },
  {
   "cell_type": "markdown",
   "metadata": {},
   "source": [
    "<h1> °Latitude vs. Temperature <h1>\n",
    "<h3>Not surprisingly, the highest temeratures are nearest the equator.  Since nearly 70% of the planets land is in the northern hemisphere, it makes sense that there are significantly fewer data points in the southern hemisphere.  The seasonal tilt of the Earths axis likely is the cause for relatively higher temps in the south compared to the north.<h3>"
   ]
  },
  {
   "cell_type": "code",
   "execution_count": null,
   "metadata": {},
   "outputs": [],
   "source": [
    "plt.scatter(results_df[\"Latitude\"], results_df[\"Humidity\"])\n",
    "plt.title(f\"°Latitude vs. Humidity {d1}\")\n",
    "plt.ylabel(\"% Humidity\")\n",
    "plt.xlabel(\"°Latitude\")\n",
    "plt.grid(True)\n",
    "\n",
    "plt.savefig(\"figures/humidity.png\")"
   ]
  },
  {
   "cell_type": "markdown",
   "metadata": {},
   "source": [
    "<h1> °Latitude vs. Humidity <h1>\n",
    "<h3>Beyond a slight concentration of zero humidity locations, there appears to be little correlation between latitude and humidity levels.<h3>"
   ]
  },
  {
   "cell_type": "code",
   "execution_count": null,
   "metadata": {},
   "outputs": [],
   "source": [
    "plt.scatter(results_df[\"Latitude\"], results_df[\"Wind Speed\"])\n",
    "plt.title(f\"°Latitude vs. Wind Speed {d1}\")\n",
    "plt.ylabel(\"Wind Speed\")\n",
    "plt.xlabel(\"°Latitude\")\n",
    "plt.grid(True)\n",
    "\n",
    "plt.savefig(\"figures/wind_speed.png\")"
   ]
  },
  {
   "cell_type": "markdown",
   "metadata": {},
   "source": [
    "<h1> °Latitude vs. Wind Speed <h1>\n",
    "<h3>Althought the extreme northern latitudes do indicate an increased possibility of some of the higher wind speeds, most of the data indicates little correlation. It is important to note that we lack data points from the extreme southern latitudes that may better bring this significance into focus<h3>"
   ]
  },
  {
   "cell_type": "code",
   "execution_count": null,
   "metadata": {},
   "outputs": [],
   "source": [
    "plt.scatter(results_df[\"Latitude\"], results_df[\"Cloudiness\"])\n",
    "plt.title(f\"°Latitude vs. Cloudiness {d1}\")\n",
    "plt.ylabel(\"Cloudiness\")\n",
    "plt.xlabel(\"°Latitude\")\n",
    "plt.grid(True)\n",
    "\n",
    "plt.savefig(\"figures/cloudiness.png\")"
   ]
  },
  {
   "cell_type": "markdown",
   "metadata": {},
   "source": [
    "<h1> °Latitude vs. Cloudiness <h1>\n",
    "<h3>There appears to be no significant direct correlation between latitude and cloudiness.s<h3>"
   ]
  },
  {
   "cell_type": "code",
   "execution_count": null,
   "metadata": {},
   "outputs": [],
   "source": [
    "# create dataframe of cities in the northern hemisphere\n",
    "\n",
    "north_hem = results_df.Latitude >= 0\n",
    "north_df = results_df[north_hem]\n",
    "north_df\n",
    "north_df.to_csv(\"WeatherPy/north_df.csv\")"
   ]
  },
  {
   "cell_type": "code",
   "execution_count": null,
   "metadata": {},
   "outputs": [],
   "source": [
    "# create dataframe of cities in the southern hemisphere\n",
    "\n",
    "south_hem = results_df.Latitude < 0\n",
    "south_df = results_df[south_hem]\n",
    "south_df\n",
    "south_df.to_csv(\"WeatherPy/south_df.csv\")"
   ]
  },
  {
   "cell_type": "code",
   "execution_count": null,
   "metadata": {},
   "outputs": [],
   "source": [
    "from scipy import stats\n",
    "\n",
    "def stats_linregress(x,y):\n",
    "    res = stats.linregress(x,y)\n",
    "    plt.plot(x, y, \"+\", label=\"Cities\")\n",
    "    plt.plot(x, res.intercept + res.slope* x, \"r\", label=\"Linear Regression\", color=\"magenta\")\n",
    "    plt.legend()\n",
    "    plt.xlabel(\"°Latitude\")\n",
    "    print(f\"R-squared: {res.rvalue**2:.6f}\")\n",
    "#     plt.show()\n",
    "\n",
    "# res = stats.linregress(south_df[\"Latitude\"], south_df[\"Wind Speed\"])"
   ]
  },
  {
   "cell_type": "code",
   "execution_count": null,
   "metadata": {},
   "outputs": [],
   "source": [
    "north_temp = stats_linregress(north_df[\"Latitude\"], north_df[\"Max Temp\"])\n",
    "plt.title(f\"°Latitude vs. Max Temp - Northern Hemisphere {d1}\")\n",
    "plt.ylabel(\"Max Temp\")\n",
    "plt.savefig(\"figures/north_temp.png\")\n",
    "# plt.show()\n"
   ]
  },
  {
   "cell_type": "code",
   "execution_count": null,
   "metadata": {},
   "outputs": [],
   "source": [
    "south_temp = stats_linregress(south_df[\"Latitude\"], south_df[\"Max Temp\"])\n",
    "plt.title(f\"°Latitude vs. Max Temp - Southern Hemisphere {d1}\")\n",
    "plt.ylabel(\"Max Temp\")\n",
    "# plt.show()\n",
    "plt.savefig(\"figures/south_temp.png\")"
   ]
  },
  {
   "cell_type": "markdown",
   "metadata": {},
   "source": [
    "<h2>°Latitude vs. Max Temp<h2>\n",
    "<img src=\"../figures/north_temp.png\" height:50px/>\n",
    "<img src=\"../figures/south_temp.png\" height:50px/>\n",
    "<h3>There is a much tighter coorelation to betweem max temp and latitude in the northern hemisphere.  This is likely due to the amount of data points and the relative diversity of the land dispersion in the southern hemisphere.<h3>\n"
   ]
  },
  {
   "cell_type": "code",
   "execution_count": null,
   "metadata": {},
   "outputs": [],
   "source": [
    "north_humidity = stats_linregress(north_df[\"Latitude\"], north_df[\"Humidity\"])\n",
    "plt.title(f\"°Latitude vs. Humidity - Northern Hemisphere {d1}\")\n",
    "plt.ylabel(\"% Humidity\")\n",
    "plt.savefig(\"figures/north_humidity.png\")\n",
    "# plt.show()"
   ]
  },
  {
   "cell_type": "code",
   "execution_count": null,
   "metadata": {},
   "outputs": [],
   "source": [
    "south_humidity = stats_linregress(south_df[\"Latitude\"], south_df[\"Humidity\"])\n",
    "plt.title(f\"°Latitude vs. Humidity - Southern Hemisphere {d1}\")\n",
    "plt.ylabel(\"% Humidity\")\n",
    "plt.savefig(\"figures/south_humidity.png\")\n",
    "# plt.show()\n"
   ]
  },
  {
   "cell_type": "markdown",
   "metadata": {},
   "source": [
    "<h2>°Latitude vs. Humidity<h2>\n",
    "<img src=\"../figures/north_humidity.png\" height:50px/>\n",
    "<img src=\"../figures/south_humidity.png\" height:50px/>\n",
    "<h3>Although there is a a loose coorelation between latitude and humidity, and that the coorelation is similiar between the hemispheres, nearly all levels of humidity are present at all latitudes.<h3>"
   ]
  },
  {
   "cell_type": "code",
   "execution_count": null,
   "metadata": {},
   "outputs": [],
   "source": [
    "north_wind = stats_linregress(north_df[\"Latitude\"], north_df[\"Wind Speed\"])\n",
    "plt.title(f\"°Latitude vs. Wind Speed - Northern Hemisphere {d1}\")\n",
    "plt.ylabel(\"Wind Speed\")\n",
    "plt.savefig(\"figures/north_wind.png\")\n",
    "# plt.show()"
   ]
  },
  {
   "cell_type": "code",
   "execution_count": null,
   "metadata": {},
   "outputs": [],
   "source": [
    "south_wind = stats_linregress(south_df[\"Latitude\"], south_df[\"Wind Speed\"])\n",
    "plt.title(f\"°Latitude vs. Wind Speed - Southern Hemisphere {d1}\")\n",
    "plt.ylabel(\"Wind Speed\")\n",
    "plt.savefig(\"figures/south_wind.png\")\n",
    "# plt.show()\n"
   ]
  },
  {
   "cell_type": "markdown",
   "metadata": {},
   "source": [
    "<h2>°Latitude vs. Wind Speed<h2>\n",
    "<img src=\"../figures/north_wind.png\" height:50px/>\n",
    "<img src=\"../figures/south_wind.png\" height:50px/>\n",
    "<h3>There is not a notable coorelation between latitude and wind speed.<h3>"
   ]
  },
  {
   "cell_type": "code",
   "execution_count": null,
   "metadata": {},
   "outputs": [],
   "source": [
    "north_cloudiness = stats_linregress(north_df[\"Latitude\"], north_df[\"Cloudiness\"])\n",
    "plt.title(f\"°Latitude vs. Cloudiness - Northern Hemisphere {d1}\")\n",
    "plt.ylabel(\"Cloudiness\")\n",
    "plt.savefig(\"figures/north_cloudiness.png\")\n",
    "# plt.show()"
   ]
  },
  {
   "cell_type": "code",
   "execution_count": null,
   "metadata": {},
   "outputs": [],
   "source": [
    "south_cloudiness = stats_linregress(south_df[\"Latitude\"], south_df[\"Cloudiness\"])\n",
    "plt.title(f\"°Latitude vs. Cloudiness - Southern Hemisphere {d1}\")\n",
    "plt.ylabel(\"Cloudiness\")\n",
    "plt.savefig(\"figures/south_cloudiness.png\")\n",
    "# plt.show()\n"
   ]
  },
  {
   "cell_type": "markdown",
   "metadata": {},
   "source": [
    "<h2>°Latitude vs. Cloudiness<h2>\n",
    "<img src=\"../figures/north_cloudiness.png\" height:50px/>\n",
    "<img src=\"../figures/south_cloudiness.png\" height:50px/>\n",
    "<h3>There is not a notable coorelation between latitude and cloudiness.<h3>"
   ]
  },
  {
   "cell_type": "code",
   "execution_count": null,
   "metadata": {},
   "outputs": [],
   "source": []
  }
 ],
 "metadata": {
  "environment": {
   "name": "common-cpu.m54",
   "type": "gcloud",
   "uri": "gcr.io/deeplearning-platform-release/base-cpu:m54"
  },
  "kernelspec": {
   "display_name": "Python 3",
   "language": "python",
   "name": "python3"
  },
  "language_info": {
   "codemirror_mode": {
    "name": "ipython",
    "version": 3
   },
   "file_extension": ".py",
   "mimetype": "text/x-python",
   "name": "python",
   "nbconvert_exporter": "python",
   "pygments_lexer": "ipython3",
   "version": "3.7.8"
  }
 },
 "nbformat": 4,
 "nbformat_minor": 4
}
